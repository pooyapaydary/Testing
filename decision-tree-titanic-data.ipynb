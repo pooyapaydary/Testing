{
 "cells": [
  {
   "cell_type": "code",
   "execution_count": 1,
   "id": "285778ee",
   "metadata": {
    "_cell_guid": "b1076dfc-b9ad-4769-8c92-a6c4dae69d19",
    "_uuid": "8f2839f25d086af736a60e9eeb907d3b93b6e0e5",
    "execution": {
     "iopub.execute_input": "2022-05-29T12:18:35.629938Z",
     "iopub.status.busy": "2022-05-29T12:18:35.629292Z",
     "iopub.status.idle": "2022-05-29T12:18:37.036801Z",
     "shell.execute_reply": "2022-05-29T12:18:37.035825Z"
    },
    "papermill": {
     "duration": 1.419152,
     "end_time": "2022-05-29T12:18:37.039179",
     "exception": false,
     "start_time": "2022-05-29T12:18:35.620027",
     "status": "completed"
    },
    "tags": []
   },
   "outputs": [
    {
     "name": "stdout",
     "output_type": "stream",
     "text": [
      "/kaggle/input/titanic-dataset/Titanic-Dataset.csv\n"
     ]
    }
   ],
   "source": [
    "# This Python 3 environment comes with many helpful analytics libraries installed\n",
    "# It is defined by the kaggle/python Docker image: https://github.com/kaggle/docker-python\n",
    "# For example, here's several helpful packages to load\n",
    "\n",
    "import numpy as np # linear algebra\n",
    "import pandas as pd # data processing, CSV file I/O (e.g. pd.read_csv)\n",
    "import matplotlib.pyplot as plt\n",
    "import seaborn as sns\n",
    "from sklearn.tree import DecisionTreeClassifier as dtc\n",
    "from sklearn.metrics import accuracy_score\n",
    "from sklearn.model_selection import train_test_split\n",
    "\n",
    "\n",
    "\n",
    "# Input data files are available in the read-only \"../input/\" directory\n",
    "# For example, running this (by clicking run or pressing Shift+Enter) will list all files under the input directory\n",
    "\n",
    "import os\n",
    "for dirname, _, filenames in os.walk('/kaggle/input'):\n",
    "    for filename in filenames:\n",
    "        print(os.path.join(dirname, filename))\n",
    "\n",
    "# You can write up to 20GB to the current directory (/kaggle/working/) that gets preserved as output when you create a version using \"Save & Run All\" \n",
    "# You can also write temporary files to /kaggle/temp/, but they won't be saved outside of the current session"
   ]
  },
  {
   "cell_type": "code",
   "execution_count": 2,
   "id": "ed8cb88d",
   "metadata": {
    "execution": {
     "iopub.execute_input": "2022-05-29T12:18:37.049279Z",
     "iopub.status.busy": "2022-05-29T12:18:37.048762Z",
     "iopub.status.idle": "2022-05-29T12:18:37.065582Z",
     "shell.execute_reply": "2022-05-29T12:18:37.064838Z"
    },
    "papermill": {
     "duration": 0.024284,
     "end_time": "2022-05-29T12:18:37.067696",
     "exception": false,
     "start_time": "2022-05-29T12:18:37.043412",
     "status": "completed"
    },
    "tags": []
   },
   "outputs": [],
   "source": [
    "df=pd.read_csv(\"../input/titanic-dataset/Titanic-Dataset.csv\")\n"
   ]
  },
  {
   "cell_type": "code",
   "execution_count": 3,
   "id": "eb3ae0e7",
   "metadata": {
    "execution": {
     "iopub.execute_input": "2022-05-29T12:18:37.078106Z",
     "iopub.status.busy": "2022-05-29T12:18:37.077574Z",
     "iopub.status.idle": "2022-05-29T12:18:37.102409Z",
     "shell.execute_reply": "2022-05-29T12:18:37.100885Z"
    },
    "papermill": {
     "duration": 0.033061,
     "end_time": "2022-05-29T12:18:37.105218",
     "exception": false,
     "start_time": "2022-05-29T12:18:37.072157",
     "status": "completed"
    },
    "tags": []
   },
   "outputs": [
    {
     "name": "stdout",
     "output_type": "stream",
     "text": [
      "<class 'pandas.core.frame.DataFrame'>\n",
      "RangeIndex: 891 entries, 0 to 890\n",
      "Data columns (total 12 columns):\n",
      " #   Column       Non-Null Count  Dtype  \n",
      "---  ------       --------------  -----  \n",
      " 0   PassengerId  891 non-null    int64  \n",
      " 1   Survived     891 non-null    int64  \n",
      " 2   Pclass       891 non-null    int64  \n",
      " 3   Name         891 non-null    object \n",
      " 4   Sex          891 non-null    object \n",
      " 5   Age          714 non-null    float64\n",
      " 6   SibSp        891 non-null    int64  \n",
      " 7   Parch        891 non-null    int64  \n",
      " 8   Ticket       891 non-null    object \n",
      " 9   Fare         891 non-null    float64\n",
      " 10  Cabin        204 non-null    object \n",
      " 11  Embarked     889 non-null    object \n",
      "dtypes: float64(2), int64(5), object(5)\n",
      "memory usage: 83.7+ KB\n"
     ]
    }
   ],
   "source": [
    "#lets merge the data sets\n",
    "\n",
    "df.head()\n",
    "df.info()"
   ]
  },
  {
   "cell_type": "code",
   "execution_count": 4,
   "id": "1c19ad9a",
   "metadata": {
    "execution": {
     "iopub.execute_input": "2022-05-29T12:18:37.115691Z",
     "iopub.status.busy": "2022-05-29T12:18:37.115320Z",
     "iopub.status.idle": "2022-05-29T12:18:37.121606Z",
     "shell.execute_reply": "2022-05-29T12:18:37.120942Z"
    },
    "papermill": {
     "duration": 0.013416,
     "end_time": "2022-05-29T12:18:37.123430",
     "exception": false,
     "start_time": "2022-05-29T12:18:37.110014",
     "status": "completed"
    },
    "tags": []
   },
   "outputs": [],
   "source": [
    "df=df.drop(columns=\"Cabin\")\n"
   ]
  },
  {
   "cell_type": "code",
   "execution_count": 5,
   "id": "56782cae",
   "metadata": {
    "execution": {
     "iopub.execute_input": "2022-05-29T12:18:37.133412Z",
     "iopub.status.busy": "2022-05-29T12:18:37.132755Z",
     "iopub.status.idle": "2022-05-29T12:18:37.142635Z",
     "shell.execute_reply": "2022-05-29T12:18:37.141800Z"
    },
    "papermill": {
     "duration": 0.016929,
     "end_time": "2022-05-29T12:18:37.144445",
     "exception": false,
     "start_time": "2022-05-29T12:18:37.127516",
     "status": "completed"
    },
    "tags": []
   },
   "outputs": [
    {
     "data": {
      "text/plain": [
       "(712, 11)"
      ]
     },
     "execution_count": 5,
     "metadata": {},
     "output_type": "execute_result"
    }
   ],
   "source": [
    "df=df.dropna()\n",
    "df.shape"
   ]
  },
  {
   "cell_type": "code",
   "execution_count": 6,
   "id": "0d7673e7",
   "metadata": {
    "execution": {
     "iopub.execute_input": "2022-05-29T12:18:37.154664Z",
     "iopub.status.busy": "2022-05-29T12:18:37.154066Z",
     "iopub.status.idle": "2022-05-29T12:18:37.170850Z",
     "shell.execute_reply": "2022-05-29T12:18:37.170212Z"
    },
    "papermill": {
     "duration": 0.024081,
     "end_time": "2022-05-29T12:18:37.172630",
     "exception": false,
     "start_time": "2022-05-29T12:18:37.148549",
     "status": "completed"
    },
    "tags": []
   },
   "outputs": [
    {
     "data": {
      "text/html": [
       "<div>\n",
       "<style scoped>\n",
       "    .dataframe tbody tr th:only-of-type {\n",
       "        vertical-align: middle;\n",
       "    }\n",
       "\n",
       "    .dataframe tbody tr th {\n",
       "        vertical-align: top;\n",
       "    }\n",
       "\n",
       "    .dataframe thead th {\n",
       "        text-align: right;\n",
       "    }\n",
       "</style>\n",
       "<table border=\"1\" class=\"dataframe\">\n",
       "  <thead>\n",
       "    <tr style=\"text-align: right;\">\n",
       "      <th></th>\n",
       "      <th>PassengerId</th>\n",
       "      <th>Survived</th>\n",
       "      <th>Pclass</th>\n",
       "      <th>Name</th>\n",
       "      <th>Sex</th>\n",
       "      <th>Age</th>\n",
       "      <th>SibSp</th>\n",
       "      <th>Parch</th>\n",
       "      <th>Ticket</th>\n",
       "      <th>Fare</th>\n",
       "      <th>Embarked</th>\n",
       "    </tr>\n",
       "  </thead>\n",
       "  <tbody>\n",
       "    <tr>\n",
       "      <th>0</th>\n",
       "      <td>1</td>\n",
       "      <td>0</td>\n",
       "      <td>3</td>\n",
       "      <td>Braund, Mr. Owen Harris</td>\n",
       "      <td>male</td>\n",
       "      <td>22.0</td>\n",
       "      <td>1</td>\n",
       "      <td>0</td>\n",
       "      <td>A/5 21171</td>\n",
       "      <td>7.2500</td>\n",
       "      <td>S</td>\n",
       "    </tr>\n",
       "    <tr>\n",
       "      <th>1</th>\n",
       "      <td>2</td>\n",
       "      <td>1</td>\n",
       "      <td>1</td>\n",
       "      <td>Cumings, Mrs. John Bradley (Florence Briggs Th...</td>\n",
       "      <td>female</td>\n",
       "      <td>38.0</td>\n",
       "      <td>1</td>\n",
       "      <td>0</td>\n",
       "      <td>PC 17599</td>\n",
       "      <td>71.2833</td>\n",
       "      <td>C</td>\n",
       "    </tr>\n",
       "    <tr>\n",
       "      <th>2</th>\n",
       "      <td>3</td>\n",
       "      <td>1</td>\n",
       "      <td>3</td>\n",
       "      <td>Heikkinen, Miss. Laina</td>\n",
       "      <td>female</td>\n",
       "      <td>26.0</td>\n",
       "      <td>0</td>\n",
       "      <td>0</td>\n",
       "      <td>STON/O2. 3101282</td>\n",
       "      <td>7.9250</td>\n",
       "      <td>S</td>\n",
       "    </tr>\n",
       "    <tr>\n",
       "      <th>3</th>\n",
       "      <td>4</td>\n",
       "      <td>1</td>\n",
       "      <td>1</td>\n",
       "      <td>Futrelle, Mrs. Jacques Heath (Lily May Peel)</td>\n",
       "      <td>female</td>\n",
       "      <td>35.0</td>\n",
       "      <td>1</td>\n",
       "      <td>0</td>\n",
       "      <td>113803</td>\n",
       "      <td>53.1000</td>\n",
       "      <td>S</td>\n",
       "    </tr>\n",
       "    <tr>\n",
       "      <th>4</th>\n",
       "      <td>5</td>\n",
       "      <td>0</td>\n",
       "      <td>3</td>\n",
       "      <td>Allen, Mr. William Henry</td>\n",
       "      <td>male</td>\n",
       "      <td>35.0</td>\n",
       "      <td>0</td>\n",
       "      <td>0</td>\n",
       "      <td>373450</td>\n",
       "      <td>8.0500</td>\n",
       "      <td>S</td>\n",
       "    </tr>\n",
       "  </tbody>\n",
       "</table>\n",
       "</div>"
      ],
      "text/plain": [
       "   PassengerId  Survived  Pclass  \\\n",
       "0            1         0       3   \n",
       "1            2         1       1   \n",
       "2            3         1       3   \n",
       "3            4         1       1   \n",
       "4            5         0       3   \n",
       "\n",
       "                                                Name     Sex   Age  SibSp  \\\n",
       "0                            Braund, Mr. Owen Harris    male  22.0      1   \n",
       "1  Cumings, Mrs. John Bradley (Florence Briggs Th...  female  38.0      1   \n",
       "2                             Heikkinen, Miss. Laina  female  26.0      0   \n",
       "3       Futrelle, Mrs. Jacques Heath (Lily May Peel)  female  35.0      1   \n",
       "4                           Allen, Mr. William Henry    male  35.0      0   \n",
       "\n",
       "   Parch            Ticket     Fare Embarked  \n",
       "0      0         A/5 21171   7.2500        S  \n",
       "1      0          PC 17599  71.2833        C  \n",
       "2      0  STON/O2. 3101282   7.9250        S  \n",
       "3      0            113803  53.1000        S  \n",
       "4      0            373450   8.0500        S  "
      ]
     },
     "execution_count": 6,
     "metadata": {},
     "output_type": "execute_result"
    }
   ],
   "source": [
    "df.head()"
   ]
  },
  {
   "cell_type": "code",
   "execution_count": 7,
   "id": "bccb3915",
   "metadata": {
    "execution": {
     "iopub.execute_input": "2022-05-29T12:18:37.183211Z",
     "iopub.status.busy": "2022-05-29T12:18:37.182593Z",
     "iopub.status.idle": "2022-05-29T12:18:37.188589Z",
     "shell.execute_reply": "2022-05-29T12:18:37.187934Z"
    },
    "papermill": {
     "duration": 0.013243,
     "end_time": "2022-05-29T12:18:37.190445",
     "exception": false,
     "start_time": "2022-05-29T12:18:37.177202",
     "status": "completed"
    },
    "tags": []
   },
   "outputs": [],
   "source": [
    "for i in df[\"Sex\"]:\n",
    "    if i==\"male\":\n",
    "        df[\"Sex\"].replace(i,0,inplace=True)\n",
    "    elif i==\"female\":\n",
    "        df[\"Sex\"].replace(i,1,inplace=True)\n",
    "        \n",
    "    "
   ]
  },
  {
   "cell_type": "code",
   "execution_count": 8,
   "id": "be25297a",
   "metadata": {
    "execution": {
     "iopub.execute_input": "2022-05-29T12:18:37.201292Z",
     "iopub.status.busy": "2022-05-29T12:18:37.200689Z",
     "iopub.status.idle": "2022-05-29T12:18:37.205937Z",
     "shell.execute_reply": "2022-05-29T12:18:37.205333Z"
    },
    "papermill": {
     "duration": 0.012395,
     "end_time": "2022-05-29T12:18:37.207532",
     "exception": false,
     "start_time": "2022-05-29T12:18:37.195137",
     "status": "completed"
    },
    "tags": []
   },
   "outputs": [
    {
     "data": {
      "text/plain": [
       "array(['S', 'C', 'Q'], dtype=object)"
      ]
     },
     "execution_count": 8,
     "metadata": {},
     "output_type": "execute_result"
    }
   ],
   "source": [
    "df[\"Embarked\"].unique()"
   ]
  },
  {
   "cell_type": "code",
   "execution_count": 9,
   "id": "e2549241",
   "metadata": {
    "execution": {
     "iopub.execute_input": "2022-05-29T12:18:37.218119Z",
     "iopub.status.busy": "2022-05-29T12:18:37.217549Z",
     "iopub.status.idle": "2022-05-29T12:18:37.225246Z",
     "shell.execute_reply": "2022-05-29T12:18:37.224600Z"
    },
    "papermill": {
     "duration": 0.015264,
     "end_time": "2022-05-29T12:18:37.227228",
     "exception": false,
     "start_time": "2022-05-29T12:18:37.211964",
     "status": "completed"
    },
    "tags": []
   },
   "outputs": [],
   "source": [
    "for i in df[\"Embarked\"]:\n",
    "    if i==\"S\":\n",
    "        df[\"Embarked\"].replace(i,0,inplace=True)\n",
    "    elif i==\"C\":\n",
    "        df[\"Embarked\"].replace(i,1,inplace=True)\n",
    "    elif i==\"Q\":\n",
    "        df[\"Embarked\"].replace(i,2,inplace=True)"
   ]
  },
  {
   "cell_type": "code",
   "execution_count": 10,
   "id": "51c5a223",
   "metadata": {
    "execution": {
     "iopub.execute_input": "2022-05-29T12:18:37.238252Z",
     "iopub.status.busy": "2022-05-29T12:18:37.237421Z",
     "iopub.status.idle": "2022-05-29T12:18:37.251044Z",
     "shell.execute_reply": "2022-05-29T12:18:37.250125Z"
    },
    "papermill": {
     "duration": 0.021138,
     "end_time": "2022-05-29T12:18:37.252959",
     "exception": false,
     "start_time": "2022-05-29T12:18:37.231821",
     "status": "completed"
    },
    "tags": []
   },
   "outputs": [
    {
     "data": {
      "text/html": [
       "<div>\n",
       "<style scoped>\n",
       "    .dataframe tbody tr th:only-of-type {\n",
       "        vertical-align: middle;\n",
       "    }\n",
       "\n",
       "    .dataframe tbody tr th {\n",
       "        vertical-align: top;\n",
       "    }\n",
       "\n",
       "    .dataframe thead th {\n",
       "        text-align: right;\n",
       "    }\n",
       "</style>\n",
       "<table border=\"1\" class=\"dataframe\">\n",
       "  <thead>\n",
       "    <tr style=\"text-align: right;\">\n",
       "      <th></th>\n",
       "      <th>PassengerId</th>\n",
       "      <th>Survived</th>\n",
       "      <th>Pclass</th>\n",
       "      <th>Name</th>\n",
       "      <th>Sex</th>\n",
       "      <th>Age</th>\n",
       "      <th>SibSp</th>\n",
       "      <th>Parch</th>\n",
       "      <th>Ticket</th>\n",
       "      <th>Fare</th>\n",
       "      <th>Embarked</th>\n",
       "    </tr>\n",
       "  </thead>\n",
       "  <tbody>\n",
       "    <tr>\n",
       "      <th>0</th>\n",
       "      <td>1</td>\n",
       "      <td>0</td>\n",
       "      <td>3</td>\n",
       "      <td>Braund, Mr. Owen Harris</td>\n",
       "      <td>0</td>\n",
       "      <td>22.0</td>\n",
       "      <td>1</td>\n",
       "      <td>0</td>\n",
       "      <td>A/5 21171</td>\n",
       "      <td>7.2500</td>\n",
       "      <td>0</td>\n",
       "    </tr>\n",
       "    <tr>\n",
       "      <th>1</th>\n",
       "      <td>2</td>\n",
       "      <td>1</td>\n",
       "      <td>1</td>\n",
       "      <td>Cumings, Mrs. John Bradley (Florence Briggs Th...</td>\n",
       "      <td>1</td>\n",
       "      <td>38.0</td>\n",
       "      <td>1</td>\n",
       "      <td>0</td>\n",
       "      <td>PC 17599</td>\n",
       "      <td>71.2833</td>\n",
       "      <td>1</td>\n",
       "    </tr>\n",
       "    <tr>\n",
       "      <th>2</th>\n",
       "      <td>3</td>\n",
       "      <td>1</td>\n",
       "      <td>3</td>\n",
       "      <td>Heikkinen, Miss. Laina</td>\n",
       "      <td>1</td>\n",
       "      <td>26.0</td>\n",
       "      <td>0</td>\n",
       "      <td>0</td>\n",
       "      <td>STON/O2. 3101282</td>\n",
       "      <td>7.9250</td>\n",
       "      <td>0</td>\n",
       "    </tr>\n",
       "    <tr>\n",
       "      <th>3</th>\n",
       "      <td>4</td>\n",
       "      <td>1</td>\n",
       "      <td>1</td>\n",
       "      <td>Futrelle, Mrs. Jacques Heath (Lily May Peel)</td>\n",
       "      <td>1</td>\n",
       "      <td>35.0</td>\n",
       "      <td>1</td>\n",
       "      <td>0</td>\n",
       "      <td>113803</td>\n",
       "      <td>53.1000</td>\n",
       "      <td>0</td>\n",
       "    </tr>\n",
       "    <tr>\n",
       "      <th>4</th>\n",
       "      <td>5</td>\n",
       "      <td>0</td>\n",
       "      <td>3</td>\n",
       "      <td>Allen, Mr. William Henry</td>\n",
       "      <td>0</td>\n",
       "      <td>35.0</td>\n",
       "      <td>0</td>\n",
       "      <td>0</td>\n",
       "      <td>373450</td>\n",
       "      <td>8.0500</td>\n",
       "      <td>0</td>\n",
       "    </tr>\n",
       "  </tbody>\n",
       "</table>\n",
       "</div>"
      ],
      "text/plain": [
       "   PassengerId  Survived  Pclass  \\\n",
       "0            1         0       3   \n",
       "1            2         1       1   \n",
       "2            3         1       3   \n",
       "3            4         1       1   \n",
       "4            5         0       3   \n",
       "\n",
       "                                                Name  Sex   Age  SibSp  Parch  \\\n",
       "0                            Braund, Mr. Owen Harris    0  22.0      1      0   \n",
       "1  Cumings, Mrs. John Bradley (Florence Briggs Th...    1  38.0      1      0   \n",
       "2                             Heikkinen, Miss. Laina    1  26.0      0      0   \n",
       "3       Futrelle, Mrs. Jacques Heath (Lily May Peel)    1  35.0      1      0   \n",
       "4                           Allen, Mr. William Henry    0  35.0      0      0   \n",
       "\n",
       "             Ticket     Fare  Embarked  \n",
       "0         A/5 21171   7.2500         0  \n",
       "1          PC 17599  71.2833         1  \n",
       "2  STON/O2. 3101282   7.9250         0  \n",
       "3            113803  53.1000         0  \n",
       "4            373450   8.0500         0  "
      ]
     },
     "execution_count": 10,
     "metadata": {},
     "output_type": "execute_result"
    }
   ],
   "source": [
    "df.head()"
   ]
  },
  {
   "cell_type": "code",
   "execution_count": 11,
   "id": "7e2ce562",
   "metadata": {
    "execution": {
     "iopub.execute_input": "2022-05-29T12:18:37.264159Z",
     "iopub.status.busy": "2022-05-29T12:18:37.263590Z",
     "iopub.status.idle": "2022-05-29T12:18:37.269497Z",
     "shell.execute_reply": "2022-05-29T12:18:37.268773Z"
    },
    "papermill": {
     "duration": 0.0136,
     "end_time": "2022-05-29T12:18:37.271264",
     "exception": false,
     "start_time": "2022-05-29T12:18:37.257664",
     "status": "completed"
    },
    "tags": []
   },
   "outputs": [
    {
     "data": {
      "text/plain": [
       "Index(['PassengerId', 'Survived', 'Pclass', 'Name', 'Sex', 'Age', 'SibSp',\n",
       "       'Parch', 'Ticket', 'Fare', 'Embarked'],\n",
       "      dtype='object')"
      ]
     },
     "execution_count": 11,
     "metadata": {},
     "output_type": "execute_result"
    }
   ],
   "source": [
    "df.columns"
   ]
  },
  {
   "cell_type": "code",
   "execution_count": 12,
   "id": "13e11548",
   "metadata": {
    "execution": {
     "iopub.execute_input": "2022-05-29T12:18:37.282899Z",
     "iopub.status.busy": "2022-05-29T12:18:37.282316Z",
     "iopub.status.idle": "2022-05-29T12:18:37.288357Z",
     "shell.execute_reply": "2022-05-29T12:18:37.287556Z"
    },
    "papermill": {
     "duration": 0.014072,
     "end_time": "2022-05-29T12:18:37.290176",
     "exception": false,
     "start_time": "2022-05-29T12:18:37.276104",
     "status": "completed"
    },
    "tags": []
   },
   "outputs": [],
   "source": [
    "x=df[[\"Pclass\", \"Sex\", \"Age\", \"SibSp\",\n",
    "       \"Parch\", \"Fare\", \"Embarked\"]]\n",
    "y=df[\"Survived\"]"
   ]
  },
  {
   "cell_type": "code",
   "execution_count": 13,
   "id": "594e024e",
   "metadata": {
    "execution": {
     "iopub.execute_input": "2022-05-29T12:18:37.301645Z",
     "iopub.status.busy": "2022-05-29T12:18:37.301093Z",
     "iopub.status.idle": "2022-05-29T12:18:37.306940Z",
     "shell.execute_reply": "2022-05-29T12:18:37.306296Z"
    },
    "papermill": {
     "duration": 0.013546,
     "end_time": "2022-05-29T12:18:37.308679",
     "exception": false,
     "start_time": "2022-05-29T12:18:37.295133",
     "status": "completed"
    },
    "tags": []
   },
   "outputs": [],
   "source": [
    "xtrain,xtest,ytrain,ytest=train_test_split(x,y,train_size=0.8,random_state=20)"
   ]
  },
  {
   "cell_type": "code",
   "execution_count": 14,
   "id": "967deb06",
   "metadata": {
    "execution": {
     "iopub.execute_input": "2022-05-29T12:18:37.320756Z",
     "iopub.status.busy": "2022-05-29T12:18:37.320213Z",
     "iopub.status.idle": "2022-05-29T12:18:37.324200Z",
     "shell.execute_reply": "2022-05-29T12:18:37.323596Z"
    },
    "papermill": {
     "duration": 0.012194,
     "end_time": "2022-05-29T12:18:37.325835",
     "exception": false,
     "start_time": "2022-05-29T12:18:37.313641",
     "status": "completed"
    },
    "tags": []
   },
   "outputs": [],
   "source": [
    "model=dtc()"
   ]
  },
  {
   "cell_type": "code",
   "execution_count": 15,
   "id": "fa943e8c",
   "metadata": {
    "execution": {
     "iopub.execute_input": "2022-05-29T12:18:37.336864Z",
     "iopub.status.busy": "2022-05-29T12:18:37.336468Z",
     "iopub.status.idle": "2022-05-29T12:18:37.349642Z",
     "shell.execute_reply": "2022-05-29T12:18:37.349012Z"
    },
    "papermill": {
     "duration": 0.020833,
     "end_time": "2022-05-29T12:18:37.351370",
     "exception": false,
     "start_time": "2022-05-29T12:18:37.330537",
     "status": "completed"
    },
    "tags": []
   },
   "outputs": [
    {
     "data": {
      "text/plain": [
       "DecisionTreeClassifier()"
      ]
     },
     "execution_count": 15,
     "metadata": {},
     "output_type": "execute_result"
    }
   ],
   "source": [
    "model.fit(xtrain,ytrain)"
   ]
  },
  {
   "cell_type": "code",
   "execution_count": 16,
   "id": "61f150c3",
   "metadata": {
    "execution": {
     "iopub.execute_input": "2022-05-29T12:18:37.362596Z",
     "iopub.status.busy": "2022-05-29T12:18:37.361614Z",
     "iopub.status.idle": "2022-05-29T12:18:37.367468Z",
     "shell.execute_reply": "2022-05-29T12:18:37.366895Z"
    },
    "papermill": {
     "duration": 0.013047,
     "end_time": "2022-05-29T12:18:37.369154",
     "exception": false,
     "start_time": "2022-05-29T12:18:37.356107",
     "status": "completed"
    },
    "tags": []
   },
   "outputs": [],
   "source": [
    "pred=model.predict(xtest)"
   ]
  },
  {
   "cell_type": "code",
   "execution_count": 17,
   "id": "01d895f0",
   "metadata": {
    "execution": {
     "iopub.execute_input": "2022-05-29T12:18:37.380357Z",
     "iopub.status.busy": "2022-05-29T12:18:37.379627Z",
     "iopub.status.idle": "2022-05-29T12:18:37.385295Z",
     "shell.execute_reply": "2022-05-29T12:18:37.384581Z"
    },
    "papermill": {
     "duration": 0.012928,
     "end_time": "2022-05-29T12:18:37.386932",
     "exception": false,
     "start_time": "2022-05-29T12:18:37.374004",
     "status": "completed"
    },
    "tags": []
   },
   "outputs": [
    {
     "data": {
      "text/plain": [
       "0.7622377622377622"
      ]
     },
     "execution_count": 17,
     "metadata": {},
     "output_type": "execute_result"
    }
   ],
   "source": [
    "accuracy_score(ytest,pred)"
   ]
  },
  {
   "cell_type": "markdown",
   "id": "b0a41042",
   "metadata": {
    "papermill": {
     "duration": 0.004594,
     "end_time": "2022-05-29T12:18:37.396348",
     "exception": false,
     "start_time": "2022-05-29T12:18:37.391754",
     "status": "completed"
    },
    "tags": []
   },
   "source": [
    "They are the same except training data set has \"survivded\". which means I so\\\\\\"
   ]
  }
 ],
 "metadata": {
  "kernelspec": {
   "display_name": "Python 3",
   "language": "python",
   "name": "python3"
  },
  "language_info": {
   "codemirror_mode": {
    "name": "ipython",
    "version": 3
   },
   "file_extension": ".py",
   "mimetype": "text/x-python",
   "name": "python",
   "nbconvert_exporter": "python",
   "pygments_lexer": "ipython3",
   "version": "3.7.12"
  },
  "papermill": {
   "default_parameters": {},
   "duration": 10.829116,
   "end_time": "2022-05-29T12:18:38.122381",
   "environment_variables": {},
   "exception": null,
   "input_path": "__notebook__.ipynb",
   "output_path": "__notebook__.ipynb",
   "parameters": {},
   "start_time": "2022-05-29T12:18:27.293265",
   "version": "2.3.4"
  }
 },
 "nbformat": 4,
 "nbformat_minor": 5
}
