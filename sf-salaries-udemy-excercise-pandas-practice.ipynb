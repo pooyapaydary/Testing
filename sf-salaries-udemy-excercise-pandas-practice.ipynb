{
 "cells": [
  {
   "cell_type": "markdown",
   "id": "93c6de52",
   "metadata": {
    "papermill": {
     "duration": 0.008114,
     "end_time": "2022-06-05T22:43:17.379701",
     "exception": false,
     "start_time": "2022-06-05T22:43:17.371587",
     "status": "completed"
    },
    "tags": []
   },
   "source": [
    "___\n",
    "\n",
    "<a href='http://www.pieriandata.com'> <img src='../../Pierian_Data_Logo.png' /></a>\n",
    "___\n",
    "# Ecommerce Purchases Exercise\n",
    "\n",
    "In this Exercise you will be given some Fake Data about some purchases done through Amazon! Just go ahead and follow the directions and try your best to answer the questions and complete the tasks. Feel free to reference the solutions. Most of the tasks can be solved in different ways. For the most part, the questions get progressively harder.\n",
    "\n",
    "Please excuse anything that doesn't make \"Real-World\" sense in the dataframe, all the data is fake and made-up.\n",
    "\n",
    "Also note that all of these questions can be answered with one line of code.\n",
    "____\n",
    "** Import pandas and read in the Ecommerce Purchases csv file and set it to a DataFrame called ecom. **"
   ]
  },
  {
   "cell_type": "code",
   "execution_count": 1,
   "id": "22e831c0",
   "metadata": {
    "collapsed": true,
    "execution": {
     "iopub.execute_input": "2022-06-05T22:43:17.396217Z",
     "iopub.status.busy": "2022-06-05T22:43:17.395427Z",
     "iopub.status.idle": "2022-06-05T22:43:17.404506Z",
     "shell.execute_reply": "2022-06-05T22:43:17.403566Z"
    },
    "jupyter": {
     "outputs_hidden": true
    },
    "papermill": {
     "duration": 0.019715,
     "end_time": "2022-06-05T22:43:17.406688",
     "exception": false,
     "start_time": "2022-06-05T22:43:17.386973",
     "status": "completed"
    },
    "tags": []
   },
   "outputs": [],
   "source": [
    "import pandas as pd"
   ]
  },
  {
   "cell_type": "code",
   "execution_count": 2,
   "id": "69af43ae",
   "metadata": {
    "execution": {
     "iopub.execute_input": "2022-06-05T22:43:17.422248Z",
     "iopub.status.busy": "2022-06-05T22:43:17.421825Z",
     "iopub.status.idle": "2022-06-05T22:43:17.519138Z",
     "shell.execute_reply": "2022-06-05T22:43:17.518336Z"
    },
    "papermill": {
     "duration": 0.107283,
     "end_time": "2022-06-05T22:43:17.521162",
     "exception": false,
     "start_time": "2022-06-05T22:43:17.413879",
     "status": "completed"
    },
    "tags": []
   },
   "outputs": [],
   "source": [
    "df=pd.read_csv(\"../input/ecommerce-purchases/Ecommerce Purchases\")"
   ]
  },
  {
   "cell_type": "markdown",
   "id": "f7782bed",
   "metadata": {
    "papermill": {
     "duration": 0.006528,
     "end_time": "2022-06-05T22:43:17.534640",
     "exception": false,
     "start_time": "2022-06-05T22:43:17.528112",
     "status": "completed"
    },
    "tags": []
   },
   "source": [
    "**Check the head of the DataFrame.**"
   ]
  },
  {
   "cell_type": "markdown",
   "id": "bb7f7897",
   "metadata": {
    "papermill": {
     "duration": 0.006499,
     "end_time": "2022-06-05T22:43:17.548084",
     "exception": false,
     "start_time": "2022-06-05T22:43:17.541585",
     "status": "completed"
    },
    "tags": []
   },
   "source": [
    "** How many rows and columns are there? **"
   ]
  },
  {
   "cell_type": "code",
   "execution_count": 3,
   "id": "68fdffae",
   "metadata": {
    "collapsed": false,
    "execution": {
     "iopub.execute_input": "2022-06-05T22:43:17.563737Z",
     "iopub.status.busy": "2022-06-05T22:43:17.563148Z",
     "iopub.status.idle": "2022-06-05T22:43:17.569875Z",
     "shell.execute_reply": "2022-06-05T22:43:17.569120Z"
    },
    "jupyter": {
     "outputs_hidden": false
    },
    "papermill": {
     "duration": 0.016327,
     "end_time": "2022-06-05T22:43:17.571422",
     "exception": false,
     "start_time": "2022-06-05T22:43:17.555095",
     "status": "completed"
    },
    "tags": []
   },
   "outputs": [
    {
     "data": {
      "text/plain": [
       "(10000, 14)"
      ]
     },
     "execution_count": 3,
     "metadata": {},
     "output_type": "execute_result"
    }
   ],
   "source": [
    "df.shape"
   ]
  },
  {
   "cell_type": "code",
   "execution_count": 4,
   "id": "c02819d6",
   "metadata": {
    "execution": {
     "iopub.execute_input": "2022-06-05T22:43:17.586907Z",
     "iopub.status.busy": "2022-06-05T22:43:17.586528Z",
     "iopub.status.idle": "2022-06-05T22:43:17.621298Z",
     "shell.execute_reply": "2022-06-05T22:43:17.619424Z"
    },
    "papermill": {
     "duration": 0.045509,
     "end_time": "2022-06-05T22:43:17.623956",
     "exception": false,
     "start_time": "2022-06-05T22:43:17.578447",
     "status": "completed"
    },
    "tags": []
   },
   "outputs": [
    {
     "name": "stdout",
     "output_type": "stream",
     "text": [
      "<class 'pandas.core.frame.DataFrame'>\n",
      "RangeIndex: 10000 entries, 0 to 9999\n",
      "Data columns (total 14 columns):\n",
      " #   Column            Non-Null Count  Dtype  \n",
      "---  ------            --------------  -----  \n",
      " 0   Address           10000 non-null  object \n",
      " 1   Lot               10000 non-null  object \n",
      " 2   AM or PM          10000 non-null  object \n",
      " 3   Browser Info      10000 non-null  object \n",
      " 4   Company           10000 non-null  object \n",
      " 5   Credit Card       10000 non-null  int64  \n",
      " 6   CC Exp Date       10000 non-null  object \n",
      " 7   CC Security Code  10000 non-null  int64  \n",
      " 8   CC Provider       10000 non-null  object \n",
      " 9   Email             10000 non-null  object \n",
      " 10  Job               10000 non-null  object \n",
      " 11  IP Address        10000 non-null  object \n",
      " 12  Language          10000 non-null  object \n",
      " 13  Purchase Price    10000 non-null  float64\n",
      "dtypes: float64(1), int64(2), object(11)\n",
      "memory usage: 1.1+ MB\n"
     ]
    }
   ],
   "source": [
    "df.info()"
   ]
  },
  {
   "cell_type": "markdown",
   "id": "65f7b194",
   "metadata": {
    "papermill": {
     "duration": 0.006682,
     "end_time": "2022-06-05T22:43:17.637826",
     "exception": false,
     "start_time": "2022-06-05T22:43:17.631144",
     "status": "completed"
    },
    "tags": []
   },
   "source": [
    "** What is the average Purchase Price? **"
   ]
  },
  {
   "cell_type": "code",
   "execution_count": 5,
   "id": "0ccb52e2",
   "metadata": {
    "collapsed": false,
    "execution": {
     "iopub.execute_input": "2022-06-05T22:43:17.653721Z",
     "iopub.status.busy": "2022-06-05T22:43:17.653157Z",
     "iopub.status.idle": "2022-06-05T22:43:17.673453Z",
     "shell.execute_reply": "2022-06-05T22:43:17.672657Z"
    },
    "jupyter": {
     "outputs_hidden": false
    },
    "papermill": {
     "duration": 0.030383,
     "end_time": "2022-06-05T22:43:17.675279",
     "exception": false,
     "start_time": "2022-06-05T22:43:17.644896",
     "status": "completed"
    },
    "tags": []
   },
   "outputs": [
    {
     "data": {
      "text/html": [
       "<div>\n",
       "<style scoped>\n",
       "    .dataframe tbody tr th:only-of-type {\n",
       "        vertical-align: middle;\n",
       "    }\n",
       "\n",
       "    .dataframe tbody tr th {\n",
       "        vertical-align: top;\n",
       "    }\n",
       "\n",
       "    .dataframe thead th {\n",
       "        text-align: right;\n",
       "    }\n",
       "</style>\n",
       "<table border=\"1\" class=\"dataframe\">\n",
       "  <thead>\n",
       "    <tr style=\"text-align: right;\">\n",
       "      <th></th>\n",
       "      <th>Address</th>\n",
       "      <th>Lot</th>\n",
       "      <th>AM or PM</th>\n",
       "      <th>Browser Info</th>\n",
       "      <th>Company</th>\n",
       "      <th>Credit Card</th>\n",
       "      <th>CC Exp Date</th>\n",
       "      <th>CC Security Code</th>\n",
       "      <th>CC Provider</th>\n",
       "      <th>Email</th>\n",
       "      <th>Job</th>\n",
       "      <th>IP Address</th>\n",
       "      <th>Language</th>\n",
       "      <th>Purchase Price</th>\n",
       "    </tr>\n",
       "  </thead>\n",
       "  <tbody>\n",
       "    <tr>\n",
       "      <th>0</th>\n",
       "      <td>16629 Pace Camp Apt. 448\\nAlexisborough, NE 77...</td>\n",
       "      <td>46 in</td>\n",
       "      <td>PM</td>\n",
       "      <td>Opera/9.56.(X11; Linux x86_64; sl-SI) Presto/2...</td>\n",
       "      <td>Martinez-Herman</td>\n",
       "      <td>6011929061123406</td>\n",
       "      <td>02/20</td>\n",
       "      <td>900</td>\n",
       "      <td>JCB 16 digit</td>\n",
       "      <td>pdunlap@yahoo.com</td>\n",
       "      <td>Scientist, product/process development</td>\n",
       "      <td>149.146.147.205</td>\n",
       "      <td>el</td>\n",
       "      <td>98.14</td>\n",
       "    </tr>\n",
       "    <tr>\n",
       "      <th>1</th>\n",
       "      <td>9374 Jasmine Spurs Suite 508\\nSouth John, TN 8...</td>\n",
       "      <td>28 rn</td>\n",
       "      <td>PM</td>\n",
       "      <td>Opera/8.93.(Windows 98; Win 9x 4.90; en-US) Pr...</td>\n",
       "      <td>Fletcher, Richards and Whitaker</td>\n",
       "      <td>3337758169645356</td>\n",
       "      <td>11/18</td>\n",
       "      <td>561</td>\n",
       "      <td>Mastercard</td>\n",
       "      <td>anthony41@reed.com</td>\n",
       "      <td>Drilling engineer</td>\n",
       "      <td>15.160.41.51</td>\n",
       "      <td>fr</td>\n",
       "      <td>70.73</td>\n",
       "    </tr>\n",
       "    <tr>\n",
       "      <th>2</th>\n",
       "      <td>Unit 0065 Box 5052\\nDPO AP 27450</td>\n",
       "      <td>94 vE</td>\n",
       "      <td>PM</td>\n",
       "      <td>Mozilla/5.0 (compatible; MSIE 9.0; Windows NT ...</td>\n",
       "      <td>Simpson, Williams and Pham</td>\n",
       "      <td>675957666125</td>\n",
       "      <td>08/19</td>\n",
       "      <td>699</td>\n",
       "      <td>JCB 16 digit</td>\n",
       "      <td>amymiller@morales-harrison.com</td>\n",
       "      <td>Customer service manager</td>\n",
       "      <td>132.207.160.22</td>\n",
       "      <td>de</td>\n",
       "      <td>0.95</td>\n",
       "    </tr>\n",
       "    <tr>\n",
       "      <th>3</th>\n",
       "      <td>7780 Julia Fords\\nNew Stacy, WA 45798</td>\n",
       "      <td>36 vm</td>\n",
       "      <td>PM</td>\n",
       "      <td>Mozilla/5.0 (Macintosh; Intel Mac OS X 10_8_0 ...</td>\n",
       "      <td>Williams, Marshall and Buchanan</td>\n",
       "      <td>6011578504430710</td>\n",
       "      <td>02/24</td>\n",
       "      <td>384</td>\n",
       "      <td>Discover</td>\n",
       "      <td>brent16@olson-robinson.info</td>\n",
       "      <td>Drilling engineer</td>\n",
       "      <td>30.250.74.19</td>\n",
       "      <td>es</td>\n",
       "      <td>78.04</td>\n",
       "    </tr>\n",
       "    <tr>\n",
       "      <th>4</th>\n",
       "      <td>23012 Munoz Drive Suite 337\\nNew Cynthia, TX 5...</td>\n",
       "      <td>20 IE</td>\n",
       "      <td>AM</td>\n",
       "      <td>Opera/9.58.(X11; Linux x86_64; it-IT) Presto/2...</td>\n",
       "      <td>Brown, Watson and Andrews</td>\n",
       "      <td>6011456623207998</td>\n",
       "      <td>10/25</td>\n",
       "      <td>678</td>\n",
       "      <td>Diners Club / Carte Blanche</td>\n",
       "      <td>christopherwright@gmail.com</td>\n",
       "      <td>Fine artist</td>\n",
       "      <td>24.140.33.94</td>\n",
       "      <td>es</td>\n",
       "      <td>77.82</td>\n",
       "    </tr>\n",
       "  </tbody>\n",
       "</table>\n",
       "</div>"
      ],
      "text/plain": [
       "                                             Address    Lot AM or PM  \\\n",
       "0  16629 Pace Camp Apt. 448\\nAlexisborough, NE 77...  46 in       PM   \n",
       "1  9374 Jasmine Spurs Suite 508\\nSouth John, TN 8...  28 rn       PM   \n",
       "2                   Unit 0065 Box 5052\\nDPO AP 27450  94 vE       PM   \n",
       "3              7780 Julia Fords\\nNew Stacy, WA 45798  36 vm       PM   \n",
       "4  23012 Munoz Drive Suite 337\\nNew Cynthia, TX 5...  20 IE       AM   \n",
       "\n",
       "                                        Browser Info  \\\n",
       "0  Opera/9.56.(X11; Linux x86_64; sl-SI) Presto/2...   \n",
       "1  Opera/8.93.(Windows 98; Win 9x 4.90; en-US) Pr...   \n",
       "2  Mozilla/5.0 (compatible; MSIE 9.0; Windows NT ...   \n",
       "3  Mozilla/5.0 (Macintosh; Intel Mac OS X 10_8_0 ...   \n",
       "4  Opera/9.58.(X11; Linux x86_64; it-IT) Presto/2...   \n",
       "\n",
       "                           Company       Credit Card CC Exp Date  \\\n",
       "0                  Martinez-Herman  6011929061123406       02/20   \n",
       "1  Fletcher, Richards and Whitaker  3337758169645356       11/18   \n",
       "2       Simpson, Williams and Pham      675957666125       08/19   \n",
       "3  Williams, Marshall and Buchanan  6011578504430710       02/24   \n",
       "4        Brown, Watson and Andrews  6011456623207998       10/25   \n",
       "\n",
       "   CC Security Code                  CC Provider  \\\n",
       "0               900                 JCB 16 digit   \n",
       "1               561                   Mastercard   \n",
       "2               699                 JCB 16 digit   \n",
       "3               384                     Discover   \n",
       "4               678  Diners Club / Carte Blanche   \n",
       "\n",
       "                            Email                                     Job  \\\n",
       "0               pdunlap@yahoo.com  Scientist, product/process development   \n",
       "1              anthony41@reed.com                       Drilling engineer   \n",
       "2  amymiller@morales-harrison.com                Customer service manager   \n",
       "3     brent16@olson-robinson.info                       Drilling engineer   \n",
       "4     christopherwright@gmail.com                             Fine artist   \n",
       "\n",
       "        IP Address Language  Purchase Price  \n",
       "0  149.146.147.205       el           98.14  \n",
       "1     15.160.41.51       fr           70.73  \n",
       "2   132.207.160.22       de            0.95  \n",
       "3     30.250.74.19       es           78.04  \n",
       "4     24.140.33.94       es           77.82  "
      ]
     },
     "execution_count": 5,
     "metadata": {},
     "output_type": "execute_result"
    }
   ],
   "source": [
    "df.head()"
   ]
  },
  {
   "cell_type": "code",
   "execution_count": 6,
   "id": "72427f4e",
   "metadata": {
    "execution": {
     "iopub.execute_input": "2022-06-05T22:43:17.692145Z",
     "iopub.status.busy": "2022-06-05T22:43:17.691599Z",
     "iopub.status.idle": "2022-06-05T22:43:17.696682Z",
     "shell.execute_reply": "2022-06-05T22:43:17.696032Z"
    },
    "papermill": {
     "duration": 0.015543,
     "end_time": "2022-06-05T22:43:17.698425",
     "exception": false,
     "start_time": "2022-06-05T22:43:17.682882",
     "status": "completed"
    },
    "tags": []
   },
   "outputs": [
    {
     "data": {
      "text/plain": [
       "50.347302"
      ]
     },
     "execution_count": 6,
     "metadata": {},
     "output_type": "execute_result"
    }
   ],
   "source": [
    "df[\"Purchase Price\"].mean()"
   ]
  },
  {
   "cell_type": "markdown",
   "id": "b684cc7b",
   "metadata": {
    "papermill": {
     "duration": 0.007218,
     "end_time": "2022-06-05T22:43:17.713204",
     "exception": false,
     "start_time": "2022-06-05T22:43:17.705986",
     "status": "completed"
    },
    "tags": []
   },
   "source": [
    "** What were the highest and lowest purchase prices? **"
   ]
  },
  {
   "cell_type": "code",
   "execution_count": 7,
   "id": "4bc9a46f",
   "metadata": {
    "collapsed": false,
    "execution": {
     "iopub.execute_input": "2022-06-05T22:43:17.730172Z",
     "iopub.status.busy": "2022-06-05T22:43:17.729619Z",
     "iopub.status.idle": "2022-06-05T22:43:17.735195Z",
     "shell.execute_reply": "2022-06-05T22:43:17.733994Z"
    },
    "jupyter": {
     "outputs_hidden": false
    },
    "papermill": {
     "duration": 0.01618,
     "end_time": "2022-06-05T22:43:17.737071",
     "exception": false,
     "start_time": "2022-06-05T22:43:17.720891",
     "status": "completed"
    },
    "tags": []
   },
   "outputs": [
    {
     "name": "stdout",
     "output_type": "stream",
     "text": [
      "99.99\n",
      "0.0\n"
     ]
    }
   ],
   "source": [
    "print(df[\"Purchase Price\"].max())\n",
    "print(df[\"Purchase Price\"].min())\n"
   ]
  },
  {
   "cell_type": "markdown",
   "id": "f4e116ec",
   "metadata": {
    "papermill": {
     "duration": 0.007233,
     "end_time": "2022-06-05T22:43:17.751732",
     "exception": false,
     "start_time": "2022-06-05T22:43:17.744499",
     "status": "completed"
    },
    "tags": []
   },
   "source": [
    "** How many people have English 'en' as their Language of choice on the website? **"
   ]
  },
  {
   "cell_type": "code",
   "execution_count": 8,
   "id": "ba00e70f",
   "metadata": {
    "collapsed": false,
    "execution": {
     "iopub.execute_input": "2022-06-05T22:43:17.769332Z",
     "iopub.status.busy": "2022-06-05T22:43:17.768292Z",
     "iopub.status.idle": "2022-06-05T22:43:17.776158Z",
     "shell.execute_reply": "2022-06-05T22:43:17.775142Z"
    },
    "jupyter": {
     "outputs_hidden": false
    },
    "papermill": {
     "duration": 0.018348,
     "end_time": "2022-06-05T22:43:17.777873",
     "exception": false,
     "start_time": "2022-06-05T22:43:17.759525",
     "status": "completed"
    },
    "tags": []
   },
   "outputs": [
    {
     "data": {
      "text/plain": [
       "1098"
      ]
     },
     "execution_count": 8,
     "metadata": {},
     "output_type": "execute_result"
    }
   ],
   "source": [
    "df[\"Language\"].value_counts()[\"en\"]"
   ]
  },
  {
   "cell_type": "markdown",
   "id": "4b5c282d",
   "metadata": {
    "papermill": {
     "duration": 0.007309,
     "end_time": "2022-06-05T22:43:17.793406",
     "exception": false,
     "start_time": "2022-06-05T22:43:17.786097",
     "status": "completed"
    },
    "tags": []
   },
   "source": [
    "** How many people have the job title of \"Lawyer\" ? **\n"
   ]
  },
  {
   "cell_type": "code",
   "execution_count": 9,
   "id": "0f2475cc",
   "metadata": {
    "collapsed": false,
    "execution": {
     "iopub.execute_input": "2022-06-05T22:43:17.810623Z",
     "iopub.status.busy": "2022-06-05T22:43:17.809640Z",
     "iopub.status.idle": "2022-06-05T22:43:17.816663Z",
     "shell.execute_reply": "2022-06-05T22:43:17.816007Z"
    },
    "jupyter": {
     "outputs_hidden": false
    },
    "papermill": {
     "duration": 0.017398,
     "end_time": "2022-06-05T22:43:17.818487",
     "exception": false,
     "start_time": "2022-06-05T22:43:17.801089",
     "status": "completed"
    },
    "tags": []
   },
   "outputs": [
    {
     "data": {
      "text/plain": [
       "30"
      ]
     },
     "execution_count": 9,
     "metadata": {},
     "output_type": "execute_result"
    }
   ],
   "source": [
    "(df[\"Job\"]==\"Lawyer\").sum()"
   ]
  },
  {
   "cell_type": "markdown",
   "id": "f1d603b0",
   "metadata": {
    "papermill": {
     "duration": 0.007334,
     "end_time": "2022-06-05T22:43:17.833584",
     "exception": false,
     "start_time": "2022-06-05T22:43:17.826250",
     "status": "completed"
    },
    "tags": []
   },
   "source": [
    "** How many people made the purchase during the AM and how many people made the purchase during PM ? **\n",
    "\n",
    "**(Hint: Check out [value_counts()](http://pandas.pydata.org/pandas-docs/stable/generated/pandas.Series.value_counts.html) ) **"
   ]
  },
  {
   "cell_type": "code",
   "execution_count": 10,
   "id": "1d901b02",
   "metadata": {
    "collapsed": false,
    "execution": {
     "iopub.execute_input": "2022-06-05T22:43:17.850592Z",
     "iopub.status.busy": "2022-06-05T22:43:17.849847Z",
     "iopub.status.idle": "2022-06-05T22:43:17.858726Z",
     "shell.execute_reply": "2022-06-05T22:43:17.857771Z"
    },
    "jupyter": {
     "outputs_hidden": false
    },
    "papermill": {
     "duration": 0.019283,
     "end_time": "2022-06-05T22:43:17.860501",
     "exception": false,
     "start_time": "2022-06-05T22:43:17.841218",
     "status": "completed"
    },
    "tags": []
   },
   "outputs": [
    {
     "data": {
      "text/plain": [
       "PM    5068\n",
       "AM    4932\n",
       "Name: AM or PM, dtype: int64"
      ]
     },
     "execution_count": 10,
     "metadata": {},
     "output_type": "execute_result"
    }
   ],
   "source": [
    "df[\"AM or PM\"].value_counts()"
   ]
  },
  {
   "cell_type": "markdown",
   "id": "34c4b8b8",
   "metadata": {
    "papermill": {
     "duration": 0.007741,
     "end_time": "2022-06-05T22:43:17.875996",
     "exception": false,
     "start_time": "2022-06-05T22:43:17.868255",
     "status": "completed"
    },
    "tags": []
   },
   "source": [
    "** What are the 5 most common Job Titles? **"
   ]
  },
  {
   "cell_type": "code",
   "execution_count": 11,
   "id": "a02b5cdb",
   "metadata": {
    "execution": {
     "iopub.execute_input": "2022-06-05T22:43:17.893799Z",
     "iopub.status.busy": "2022-06-05T22:43:17.893225Z",
     "iopub.status.idle": "2022-06-05T22:43:17.901971Z",
     "shell.execute_reply": "2022-06-05T22:43:17.900885Z"
    },
    "papermill": {
     "duration": 0.019734,
     "end_time": "2022-06-05T22:43:17.903667",
     "exception": false,
     "start_time": "2022-06-05T22:43:17.883933",
     "status": "completed"
    },
    "tags": []
   },
   "outputs": [
    {
     "data": {
      "text/plain": [
       "Interior and spatial designer    31\n",
       "Lawyer                           30\n",
       "Social researcher                28\n",
       "Purchasing manager               27\n",
       "Designer, jewellery              27\n",
       "Name: Job, dtype: int64"
      ]
     },
     "execution_count": 11,
     "metadata": {},
     "output_type": "execute_result"
    }
   ],
   "source": [
    "df[\"Job\"].value_counts().head()"
   ]
  },
  {
   "cell_type": "markdown",
   "id": "e97c1e20",
   "metadata": {
    "papermill": {
     "duration": 0.007842,
     "end_time": "2022-06-05T22:43:17.919463",
     "exception": false,
     "start_time": "2022-06-05T22:43:17.911621",
     "status": "completed"
    },
    "tags": []
   },
   "source": [
    "** Someone made a purchase that came from Lot: \"90 WT\" , what was the Purchase Price for this transaction? **"
   ]
  },
  {
   "cell_type": "code",
   "execution_count": 12,
   "id": "ab60790f",
   "metadata": {
    "collapsed": false,
    "execution": {
     "iopub.execute_input": "2022-06-05T22:43:17.937529Z",
     "iopub.status.busy": "2022-06-05T22:43:17.936561Z",
     "iopub.status.idle": "2022-06-05T22:43:17.948013Z",
     "shell.execute_reply": "2022-06-05T22:43:17.946944Z"
    },
    "jupyter": {
     "outputs_hidden": false
    },
    "papermill": {
     "duration": 0.022482,
     "end_time": "2022-06-05T22:43:17.949954",
     "exception": false,
     "start_time": "2022-06-05T22:43:17.927472",
     "status": "completed"
    },
    "tags": []
   },
   "outputs": [
    {
     "data": {
      "text/plain": [
       "513    75.1\n",
       "Name: Purchase Price, dtype: float64"
      ]
     },
     "execution_count": 12,
     "metadata": {},
     "output_type": "execute_result"
    }
   ],
   "source": [
    "df[df[\"Lot\"]==\"90 WT\"][\"Purchase Price\"]"
   ]
  },
  {
   "cell_type": "markdown",
   "id": "32f0c6a0",
   "metadata": {
    "papermill": {
     "duration": 0.007776,
     "end_time": "2022-06-05T22:43:17.965881",
     "exception": false,
     "start_time": "2022-06-05T22:43:17.958105",
     "status": "completed"
    },
    "tags": []
   },
   "source": [
    "** What is the email of the person with the following Credit Card Number: 4926535242672853 **"
   ]
  },
  {
   "cell_type": "code",
   "execution_count": 13,
   "id": "e9cacce1",
   "metadata": {
    "collapsed": false,
    "execution": {
     "iopub.execute_input": "2022-06-05T22:43:17.983802Z",
     "iopub.status.busy": "2022-06-05T22:43:17.983384Z",
     "iopub.status.idle": "2022-06-05T22:43:17.990407Z",
     "shell.execute_reply": "2022-06-05T22:43:17.989783Z"
    },
    "jupyter": {
     "outputs_hidden": false
    },
    "papermill": {
     "duration": 0.018075,
     "end_time": "2022-06-05T22:43:17.992072",
     "exception": false,
     "start_time": "2022-06-05T22:43:17.973997",
     "status": "completed"
    },
    "tags": []
   },
   "outputs": [
    {
     "data": {
      "text/plain": [
       "1234    bondellen@williams-garza.com\n",
       "Name: Email, dtype: object"
      ]
     },
     "execution_count": 13,
     "metadata": {},
     "output_type": "execute_result"
    }
   ],
   "source": [
    "df[df[\"Credit Card\"]==4926535242672853][\"Email\"]"
   ]
  },
  {
   "cell_type": "markdown",
   "id": "06564aa0",
   "metadata": {
    "papermill": {
     "duration": 0.008052,
     "end_time": "2022-06-05T22:43:18.008308",
     "exception": false,
     "start_time": "2022-06-05T22:43:18.000256",
     "status": "completed"
    },
    "tags": []
   },
   "source": [
    "** How many people have American Express as their Credit Card Provider *and* made a purchase above $95 ?**"
   ]
  },
  {
   "cell_type": "code",
   "execution_count": 14,
   "id": "4824ff94",
   "metadata": {
    "execution": {
     "iopub.execute_input": "2022-06-05T22:43:18.027406Z",
     "iopub.status.busy": "2022-06-05T22:43:18.026208Z",
     "iopub.status.idle": "2022-06-05T22:43:18.035129Z",
     "shell.execute_reply": "2022-06-05T22:43:18.034340Z"
    },
    "papermill": {
     "duration": 0.02006,
     "end_time": "2022-06-05T22:43:18.036824",
     "exception": false,
     "start_time": "2022-06-05T22:43:18.016764",
     "status": "completed"
    },
    "tags": []
   },
   "outputs": [
    {
     "data": {
      "text/plain": [
       "0       False\n",
       "1       False\n",
       "2       False\n",
       "3       False\n",
       "4       False\n",
       "        ...  \n",
       "9995    False\n",
       "9996    False\n",
       "9997    False\n",
       "9998     True\n",
       "9999    False\n",
       "Name: CC Provider, Length: 10000, dtype: bool"
      ]
     },
     "execution_count": 14,
     "metadata": {},
     "output_type": "execute_result"
    }
   ],
   "source": [
    "df[\"CC Provider\"]==\"American Express\""
   ]
  },
  {
   "cell_type": "code",
   "execution_count": 15,
   "id": "9bd95e84",
   "metadata": {
    "execution": {
     "iopub.execute_input": "2022-06-05T22:43:18.055763Z",
     "iopub.status.busy": "2022-06-05T22:43:18.055068Z",
     "iopub.status.idle": "2022-06-05T22:43:18.062154Z",
     "shell.execute_reply": "2022-06-05T22:43:18.061251Z"
    },
    "papermill": {
     "duration": 0.018836,
     "end_time": "2022-06-05T22:43:18.064013",
     "exception": false,
     "start_time": "2022-06-05T22:43:18.045177",
     "status": "completed"
    },
    "tags": []
   },
   "outputs": [
    {
     "data": {
      "text/plain": [
       "0        True\n",
       "1       False\n",
       "2       False\n",
       "3       False\n",
       "4       False\n",
       "        ...  \n",
       "9995    False\n",
       "9996    False\n",
       "9997    False\n",
       "9998    False\n",
       "9999    False\n",
       "Name: Purchase Price, Length: 10000, dtype: bool"
      ]
     },
     "execution_count": 15,
     "metadata": {},
     "output_type": "execute_result"
    }
   ],
   "source": [
    "df[\"Purchase Price\"]>95"
   ]
  },
  {
   "cell_type": "code",
   "execution_count": 16,
   "id": "442b49c9",
   "metadata": {
    "collapsed": false,
    "execution": {
     "iopub.execute_input": "2022-06-05T22:43:18.083580Z",
     "iopub.status.busy": "2022-06-05T22:43:18.082687Z",
     "iopub.status.idle": "2022-06-05T22:43:18.091127Z",
     "shell.execute_reply": "2022-06-05T22:43:18.090227Z"
    },
    "jupyter": {
     "outputs_hidden": false
    },
    "papermill": {
     "duration": 0.02016,
     "end_time": "2022-06-05T22:43:18.093102",
     "exception": false,
     "start_time": "2022-06-05T22:43:18.072942",
     "status": "completed"
    },
    "tags": []
   },
   "outputs": [
    {
     "data": {
      "text/plain": [
       "39"
      ]
     },
     "execution_count": 16,
     "metadata": {},
     "output_type": "execute_result"
    }
   ],
   "source": [
    "((df[\"CC Provider\"]==\"American Express\") & (df[\"Purchase Price\"]>95)).sum()"
   ]
  },
  {
   "cell_type": "markdown",
   "id": "32e6a95d",
   "metadata": {
    "papermill": {
     "duration": 0.008694,
     "end_time": "2022-06-05T22:43:18.110397",
     "exception": false,
     "start_time": "2022-06-05T22:43:18.101703",
     "status": "completed"
    },
    "tags": []
   },
   "source": [
    "** Hard: How many people have a credit card that expires in 2025? **"
   ]
  },
  {
   "cell_type": "code",
   "execution_count": 17,
   "id": "dc36af17",
   "metadata": {
    "collapsed": false,
    "execution": {
     "iopub.execute_input": "2022-06-05T22:43:18.129568Z",
     "iopub.status.busy": "2022-06-05T22:43:18.128768Z",
     "iopub.status.idle": "2022-06-05T22:43:18.135126Z",
     "shell.execute_reply": "2022-06-05T22:43:18.134413Z"
    },
    "jupyter": {
     "outputs_hidden": false
    },
    "papermill": {
     "duration": 0.017766,
     "end_time": "2022-06-05T22:43:18.136851",
     "exception": false,
     "start_time": "2022-06-05T22:43:18.119085",
     "status": "completed"
    },
    "tags": []
   },
   "outputs": [
    {
     "data": {
      "text/plain": [
       "'02/20'"
      ]
     },
     "execution_count": 17,
     "metadata": {},
     "output_type": "execute_result"
    }
   ],
   "source": [
    "df[\"CC Exp Date\"].head()[0]"
   ]
  },
  {
   "cell_type": "code",
   "execution_count": 18,
   "id": "cb89d322",
   "metadata": {
    "execution": {
     "iopub.execute_input": "2022-06-05T22:43:18.156907Z",
     "iopub.status.busy": "2022-06-05T22:43:18.156339Z",
     "iopub.status.idle": "2022-06-05T22:43:18.160332Z",
     "shell.execute_reply": "2022-06-05T22:43:18.159688Z"
    },
    "papermill": {
     "duration": 0.016291,
     "end_time": "2022-06-05T22:43:18.162231",
     "exception": false,
     "start_time": "2022-06-05T22:43:18.145940",
     "status": "completed"
    },
    "tags": []
   },
   "outputs": [],
   "source": [
    "def Dfinder (s):\n",
    "    a=s.split(\"/\")\n",
    "    if a[1]==\"25\":\n",
    "        return (True)\n",
    "    else:\n",
    "        return(False)"
   ]
  },
  {
   "cell_type": "code",
   "execution_count": 19,
   "id": "acdf8755",
   "metadata": {
    "execution": {
     "iopub.execute_input": "2022-06-05T22:43:18.181362Z",
     "iopub.status.busy": "2022-06-05T22:43:18.180847Z",
     "iopub.status.idle": "2022-06-05T22:43:18.190073Z",
     "shell.execute_reply": "2022-06-05T22:43:18.189103Z"
    },
    "papermill": {
     "duration": 0.020885,
     "end_time": "2022-06-05T22:43:18.191841",
     "exception": false,
     "start_time": "2022-06-05T22:43:18.170956",
     "status": "completed"
    },
    "tags": []
   },
   "outputs": [
    {
     "data": {
      "text/plain": [
       "1033"
      ]
     },
     "execution_count": 19,
     "metadata": {},
     "output_type": "execute_result"
    }
   ],
   "source": [
    "df[\"CC Exp Date\"].apply(Dfinder).sum()"
   ]
  },
  {
   "cell_type": "markdown",
   "id": "c0f848b3",
   "metadata": {
    "papermill": {
     "duration": 0.008389,
     "end_time": "2022-06-05T22:43:18.208792",
     "exception": false,
     "start_time": "2022-06-05T22:43:18.200403",
     "status": "completed"
    },
    "tags": []
   },
   "source": [
    "** Hard: What are the top 5 most popular email providers/hosts (e.g. gmail.com, yahoo.com, etc...) **"
   ]
  },
  {
   "cell_type": "code",
   "execution_count": 20,
   "id": "212a8171",
   "metadata": {
    "collapsed": false,
    "execution": {
     "iopub.execute_input": "2022-06-05T22:43:18.228015Z",
     "iopub.status.busy": "2022-06-05T22:43:18.227580Z",
     "iopub.status.idle": "2022-06-05T22:43:18.232685Z",
     "shell.execute_reply": "2022-06-05T22:43:18.231900Z"
    },
    "jupyter": {
     "outputs_hidden": false
    },
    "papermill": {
     "duration": 0.017063,
     "end_time": "2022-06-05T22:43:18.234474",
     "exception": false,
     "start_time": "2022-06-05T22:43:18.217411",
     "status": "completed"
    },
    "tags": []
   },
   "outputs": [
    {
     "data": {
      "text/plain": [
       "'pdunlap@yahoo.com'"
      ]
     },
     "execution_count": 20,
     "metadata": {},
     "output_type": "execute_result"
    }
   ],
   "source": [
    "df[\"Email\"][0]"
   ]
  },
  {
   "cell_type": "code",
   "execution_count": 21,
   "id": "8aa2ac3b",
   "metadata": {
    "execution": {
     "iopub.execute_input": "2022-06-05T22:43:18.253247Z",
     "iopub.status.busy": "2022-06-05T22:43:18.252888Z",
     "iopub.status.idle": "2022-06-05T22:43:18.257287Z",
     "shell.execute_reply": "2022-06-05T22:43:18.256296Z"
    },
    "papermill": {
     "duration": 0.015978,
     "end_time": "2022-06-05T22:43:18.259066",
     "exception": false,
     "start_time": "2022-06-05T22:43:18.243088",
     "status": "completed"
    },
    "tags": []
   },
   "outputs": [],
   "source": [
    "def Efinder (s):\n",
    "    a=s.split(\"@\")\n",
    "    b=a[1].split(\".\")\n",
    "    return(b[0])"
   ]
  },
  {
   "cell_type": "code",
   "execution_count": 22,
   "id": "3b2f5b50",
   "metadata": {
    "execution": {
     "iopub.execute_input": "2022-06-05T22:43:18.277926Z",
     "iopub.status.busy": "2022-06-05T22:43:18.277242Z",
     "iopub.status.idle": "2022-06-05T22:43:18.288142Z",
     "shell.execute_reply": "2022-06-05T22:43:18.287371Z"
    },
    "papermill": {
     "duration": 0.02268,
     "end_time": "2022-06-05T22:43:18.290180",
     "exception": false,
     "start_time": "2022-06-05T22:43:18.267500",
     "status": "completed"
    },
    "tags": []
   },
   "outputs": [],
   "source": [
    "df[\"Email Provider\"]=df[\"Email\"].apply(Efinder)"
   ]
  },
  {
   "cell_type": "code",
   "execution_count": 23,
   "id": "1e33dce4",
   "metadata": {
    "execution": {
     "iopub.execute_input": "2022-06-05T22:43:18.309015Z",
     "iopub.status.busy": "2022-06-05T22:43:18.308328Z",
     "iopub.status.idle": "2022-06-05T22:43:18.330709Z",
     "shell.execute_reply": "2022-06-05T22:43:18.330012Z"
    },
    "papermill": {
     "duration": 0.033823,
     "end_time": "2022-06-05T22:43:18.332545",
     "exception": false,
     "start_time": "2022-06-05T22:43:18.298722",
     "status": "completed"
    },
    "tags": []
   },
   "outputs": [
    {
     "data": {
      "text/html": [
       "<div>\n",
       "<style scoped>\n",
       "    .dataframe tbody tr th:only-of-type {\n",
       "        vertical-align: middle;\n",
       "    }\n",
       "\n",
       "    .dataframe tbody tr th {\n",
       "        vertical-align: top;\n",
       "    }\n",
       "\n",
       "    .dataframe thead th {\n",
       "        text-align: right;\n",
       "    }\n",
       "</style>\n",
       "<table border=\"1\" class=\"dataframe\">\n",
       "  <thead>\n",
       "    <tr style=\"text-align: right;\">\n",
       "      <th></th>\n",
       "      <th>Address</th>\n",
       "      <th>Lot</th>\n",
       "      <th>AM or PM</th>\n",
       "      <th>Browser Info</th>\n",
       "      <th>Company</th>\n",
       "      <th>Credit Card</th>\n",
       "      <th>CC Exp Date</th>\n",
       "      <th>CC Security Code</th>\n",
       "      <th>CC Provider</th>\n",
       "      <th>Email</th>\n",
       "      <th>Job</th>\n",
       "      <th>IP Address</th>\n",
       "      <th>Language</th>\n",
       "      <th>Purchase Price</th>\n",
       "      <th>Email Provider</th>\n",
       "    </tr>\n",
       "  </thead>\n",
       "  <tbody>\n",
       "    <tr>\n",
       "      <th>0</th>\n",
       "      <td>16629 Pace Camp Apt. 448\\nAlexisborough, NE 77...</td>\n",
       "      <td>46 in</td>\n",
       "      <td>PM</td>\n",
       "      <td>Opera/9.56.(X11; Linux x86_64; sl-SI) Presto/2...</td>\n",
       "      <td>Martinez-Herman</td>\n",
       "      <td>6011929061123406</td>\n",
       "      <td>02/20</td>\n",
       "      <td>900</td>\n",
       "      <td>JCB 16 digit</td>\n",
       "      <td>pdunlap@yahoo.com</td>\n",
       "      <td>Scientist, product/process development</td>\n",
       "      <td>149.146.147.205</td>\n",
       "      <td>el</td>\n",
       "      <td>98.14</td>\n",
       "      <td>yahoo</td>\n",
       "    </tr>\n",
       "    <tr>\n",
       "      <th>1</th>\n",
       "      <td>9374 Jasmine Spurs Suite 508\\nSouth John, TN 8...</td>\n",
       "      <td>28 rn</td>\n",
       "      <td>PM</td>\n",
       "      <td>Opera/8.93.(Windows 98; Win 9x 4.90; en-US) Pr...</td>\n",
       "      <td>Fletcher, Richards and Whitaker</td>\n",
       "      <td>3337758169645356</td>\n",
       "      <td>11/18</td>\n",
       "      <td>561</td>\n",
       "      <td>Mastercard</td>\n",
       "      <td>anthony41@reed.com</td>\n",
       "      <td>Drilling engineer</td>\n",
       "      <td>15.160.41.51</td>\n",
       "      <td>fr</td>\n",
       "      <td>70.73</td>\n",
       "      <td>reed</td>\n",
       "    </tr>\n",
       "    <tr>\n",
       "      <th>2</th>\n",
       "      <td>Unit 0065 Box 5052\\nDPO AP 27450</td>\n",
       "      <td>94 vE</td>\n",
       "      <td>PM</td>\n",
       "      <td>Mozilla/5.0 (compatible; MSIE 9.0; Windows NT ...</td>\n",
       "      <td>Simpson, Williams and Pham</td>\n",
       "      <td>675957666125</td>\n",
       "      <td>08/19</td>\n",
       "      <td>699</td>\n",
       "      <td>JCB 16 digit</td>\n",
       "      <td>amymiller@morales-harrison.com</td>\n",
       "      <td>Customer service manager</td>\n",
       "      <td>132.207.160.22</td>\n",
       "      <td>de</td>\n",
       "      <td>0.95</td>\n",
       "      <td>morales-harrison</td>\n",
       "    </tr>\n",
       "    <tr>\n",
       "      <th>3</th>\n",
       "      <td>7780 Julia Fords\\nNew Stacy, WA 45798</td>\n",
       "      <td>36 vm</td>\n",
       "      <td>PM</td>\n",
       "      <td>Mozilla/5.0 (Macintosh; Intel Mac OS X 10_8_0 ...</td>\n",
       "      <td>Williams, Marshall and Buchanan</td>\n",
       "      <td>6011578504430710</td>\n",
       "      <td>02/24</td>\n",
       "      <td>384</td>\n",
       "      <td>Discover</td>\n",
       "      <td>brent16@olson-robinson.info</td>\n",
       "      <td>Drilling engineer</td>\n",
       "      <td>30.250.74.19</td>\n",
       "      <td>es</td>\n",
       "      <td>78.04</td>\n",
       "      <td>olson-robinson</td>\n",
       "    </tr>\n",
       "    <tr>\n",
       "      <th>4</th>\n",
       "      <td>23012 Munoz Drive Suite 337\\nNew Cynthia, TX 5...</td>\n",
       "      <td>20 IE</td>\n",
       "      <td>AM</td>\n",
       "      <td>Opera/9.58.(X11; Linux x86_64; it-IT) Presto/2...</td>\n",
       "      <td>Brown, Watson and Andrews</td>\n",
       "      <td>6011456623207998</td>\n",
       "      <td>10/25</td>\n",
       "      <td>678</td>\n",
       "      <td>Diners Club / Carte Blanche</td>\n",
       "      <td>christopherwright@gmail.com</td>\n",
       "      <td>Fine artist</td>\n",
       "      <td>24.140.33.94</td>\n",
       "      <td>es</td>\n",
       "      <td>77.82</td>\n",
       "      <td>gmail</td>\n",
       "    </tr>\n",
       "    <tr>\n",
       "      <th>...</th>\n",
       "      <td>...</td>\n",
       "      <td>...</td>\n",
       "      <td>...</td>\n",
       "      <td>...</td>\n",
       "      <td>...</td>\n",
       "      <td>...</td>\n",
       "      <td>...</td>\n",
       "      <td>...</td>\n",
       "      <td>...</td>\n",
       "      <td>...</td>\n",
       "      <td>...</td>\n",
       "      <td>...</td>\n",
       "      <td>...</td>\n",
       "      <td>...</td>\n",
       "      <td>...</td>\n",
       "    </tr>\n",
       "    <tr>\n",
       "      <th>9995</th>\n",
       "      <td>966 Castaneda Locks\\nWest Juliafurt, CO 96415</td>\n",
       "      <td>92 XI</td>\n",
       "      <td>PM</td>\n",
       "      <td>Mozilla/5.0 (Windows NT 5.1) AppleWebKit/5352 ...</td>\n",
       "      <td>Randall-Sloan</td>\n",
       "      <td>342945015358701</td>\n",
       "      <td>03/22</td>\n",
       "      <td>838</td>\n",
       "      <td>JCB 15 digit</td>\n",
       "      <td>iscott@wade-garner.com</td>\n",
       "      <td>Printmaker</td>\n",
       "      <td>29.73.197.114</td>\n",
       "      <td>it</td>\n",
       "      <td>82.21</td>\n",
       "      <td>wade-garner</td>\n",
       "    </tr>\n",
       "    <tr>\n",
       "      <th>9996</th>\n",
       "      <td>832 Curtis Dam Suite 785\\nNorth Edwardburgh, T...</td>\n",
       "      <td>41 JY</td>\n",
       "      <td>AM</td>\n",
       "      <td>Mozilla/5.0 (compatible; MSIE 9.0; Windows NT ...</td>\n",
       "      <td>Hale, Collins and Wilson</td>\n",
       "      <td>210033169205009</td>\n",
       "      <td>07/25</td>\n",
       "      <td>207</td>\n",
       "      <td>JCB 16 digit</td>\n",
       "      <td>mary85@hotmail.com</td>\n",
       "      <td>Energy engineer</td>\n",
       "      <td>121.133.168.51</td>\n",
       "      <td>pt</td>\n",
       "      <td>25.63</td>\n",
       "      <td>hotmail</td>\n",
       "    </tr>\n",
       "    <tr>\n",
       "      <th>9997</th>\n",
       "      <td>Unit 4434 Box 6343\\nDPO AE 28026-0283</td>\n",
       "      <td>74 Zh</td>\n",
       "      <td>AM</td>\n",
       "      <td>Mozilla/5.0 (Macintosh; U; Intel Mac OS X 10_7...</td>\n",
       "      <td>Anderson Ltd</td>\n",
       "      <td>6011539787356311</td>\n",
       "      <td>05/21</td>\n",
       "      <td>1</td>\n",
       "      <td>VISA 16 digit</td>\n",
       "      <td>tyler16@gmail.com</td>\n",
       "      <td>Veterinary surgeon</td>\n",
       "      <td>156.210.0.254</td>\n",
       "      <td>el</td>\n",
       "      <td>83.98</td>\n",
       "      <td>gmail</td>\n",
       "    </tr>\n",
       "    <tr>\n",
       "      <th>9998</th>\n",
       "      <td>0096 English Rest\\nRoystad, IA 12457</td>\n",
       "      <td>74 cL</td>\n",
       "      <td>PM</td>\n",
       "      <td>Mozilla/5.0 (Macintosh; Intel Mac OS X 10_8_8;...</td>\n",
       "      <td>Cook Inc</td>\n",
       "      <td>180003348082930</td>\n",
       "      <td>11/17</td>\n",
       "      <td>987</td>\n",
       "      <td>American Express</td>\n",
       "      <td>elizabethmoore@reid.net</td>\n",
       "      <td>Local government officer</td>\n",
       "      <td>55.78.26.143</td>\n",
       "      <td>es</td>\n",
       "      <td>38.84</td>\n",
       "      <td>reid</td>\n",
       "    </tr>\n",
       "    <tr>\n",
       "      <th>9999</th>\n",
       "      <td>40674 Barrett Stravenue\\nGrimesville, WI 79682</td>\n",
       "      <td>64 Hr</td>\n",
       "      <td>AM</td>\n",
       "      <td>Mozilla/5.0 (X11; Linux i686; rv:1.9.5.20) Gec...</td>\n",
       "      <td>Greene Inc</td>\n",
       "      <td>4139972901927273</td>\n",
       "      <td>02/19</td>\n",
       "      <td>302</td>\n",
       "      <td>JCB 15 digit</td>\n",
       "      <td>rachelford@vaughn.com</td>\n",
       "      <td>Embryologist, clinical</td>\n",
       "      <td>176.119.198.199</td>\n",
       "      <td>el</td>\n",
       "      <td>67.59</td>\n",
       "      <td>vaughn</td>\n",
       "    </tr>\n",
       "  </tbody>\n",
       "</table>\n",
       "<p>10000 rows × 15 columns</p>\n",
       "</div>"
      ],
      "text/plain": [
       "                                                Address    Lot AM or PM  \\\n",
       "0     16629 Pace Camp Apt. 448\\nAlexisborough, NE 77...  46 in       PM   \n",
       "1     9374 Jasmine Spurs Suite 508\\nSouth John, TN 8...  28 rn       PM   \n",
       "2                      Unit 0065 Box 5052\\nDPO AP 27450  94 vE       PM   \n",
       "3                 7780 Julia Fords\\nNew Stacy, WA 45798  36 vm       PM   \n",
       "4     23012 Munoz Drive Suite 337\\nNew Cynthia, TX 5...  20 IE       AM   \n",
       "...                                                 ...    ...      ...   \n",
       "9995      966 Castaneda Locks\\nWest Juliafurt, CO 96415  92 XI       PM   \n",
       "9996  832 Curtis Dam Suite 785\\nNorth Edwardburgh, T...  41 JY       AM   \n",
       "9997              Unit 4434 Box 6343\\nDPO AE 28026-0283  74 Zh       AM   \n",
       "9998               0096 English Rest\\nRoystad, IA 12457  74 cL       PM   \n",
       "9999     40674 Barrett Stravenue\\nGrimesville, WI 79682  64 Hr       AM   \n",
       "\n",
       "                                           Browser Info  \\\n",
       "0     Opera/9.56.(X11; Linux x86_64; sl-SI) Presto/2...   \n",
       "1     Opera/8.93.(Windows 98; Win 9x 4.90; en-US) Pr...   \n",
       "2     Mozilla/5.0 (compatible; MSIE 9.0; Windows NT ...   \n",
       "3     Mozilla/5.0 (Macintosh; Intel Mac OS X 10_8_0 ...   \n",
       "4     Opera/9.58.(X11; Linux x86_64; it-IT) Presto/2...   \n",
       "...                                                 ...   \n",
       "9995  Mozilla/5.0 (Windows NT 5.1) AppleWebKit/5352 ...   \n",
       "9996  Mozilla/5.0 (compatible; MSIE 9.0; Windows NT ...   \n",
       "9997  Mozilla/5.0 (Macintosh; U; Intel Mac OS X 10_7...   \n",
       "9998  Mozilla/5.0 (Macintosh; Intel Mac OS X 10_8_8;...   \n",
       "9999  Mozilla/5.0 (X11; Linux i686; rv:1.9.5.20) Gec...   \n",
       "\n",
       "                              Company       Credit Card CC Exp Date  \\\n",
       "0                     Martinez-Herman  6011929061123406       02/20   \n",
       "1     Fletcher, Richards and Whitaker  3337758169645356       11/18   \n",
       "2          Simpson, Williams and Pham      675957666125       08/19   \n",
       "3     Williams, Marshall and Buchanan  6011578504430710       02/24   \n",
       "4           Brown, Watson and Andrews  6011456623207998       10/25   \n",
       "...                               ...               ...         ...   \n",
       "9995                    Randall-Sloan   342945015358701       03/22   \n",
       "9996         Hale, Collins and Wilson   210033169205009       07/25   \n",
       "9997                     Anderson Ltd  6011539787356311       05/21   \n",
       "9998                         Cook Inc   180003348082930       11/17   \n",
       "9999                       Greene Inc  4139972901927273       02/19   \n",
       "\n",
       "      CC Security Code                  CC Provider  \\\n",
       "0                  900                 JCB 16 digit   \n",
       "1                  561                   Mastercard   \n",
       "2                  699                 JCB 16 digit   \n",
       "3                  384                     Discover   \n",
       "4                  678  Diners Club / Carte Blanche   \n",
       "...                ...                          ...   \n",
       "9995               838                 JCB 15 digit   \n",
       "9996               207                 JCB 16 digit   \n",
       "9997                 1                VISA 16 digit   \n",
       "9998               987             American Express   \n",
       "9999               302                 JCB 15 digit   \n",
       "\n",
       "                               Email                                     Job  \\\n",
       "0                  pdunlap@yahoo.com  Scientist, product/process development   \n",
       "1                 anthony41@reed.com                       Drilling engineer   \n",
       "2     amymiller@morales-harrison.com                Customer service manager   \n",
       "3        brent16@olson-robinson.info                       Drilling engineer   \n",
       "4        christopherwright@gmail.com                             Fine artist   \n",
       "...                              ...                                     ...   \n",
       "9995          iscott@wade-garner.com                              Printmaker   \n",
       "9996              mary85@hotmail.com                         Energy engineer   \n",
       "9997               tyler16@gmail.com                      Veterinary surgeon   \n",
       "9998         elizabethmoore@reid.net                Local government officer   \n",
       "9999           rachelford@vaughn.com                  Embryologist, clinical   \n",
       "\n",
       "           IP Address Language  Purchase Price    Email Provider  \n",
       "0     149.146.147.205       el           98.14             yahoo  \n",
       "1        15.160.41.51       fr           70.73              reed  \n",
       "2      132.207.160.22       de            0.95  morales-harrison  \n",
       "3        30.250.74.19       es           78.04    olson-robinson  \n",
       "4        24.140.33.94       es           77.82             gmail  \n",
       "...               ...      ...             ...               ...  \n",
       "9995    29.73.197.114       it           82.21       wade-garner  \n",
       "9996   121.133.168.51       pt           25.63           hotmail  \n",
       "9997    156.210.0.254       el           83.98             gmail  \n",
       "9998     55.78.26.143       es           38.84              reid  \n",
       "9999  176.119.198.199       el           67.59            vaughn  \n",
       "\n",
       "[10000 rows x 15 columns]"
      ]
     },
     "execution_count": 23,
     "metadata": {},
     "output_type": "execute_result"
    }
   ],
   "source": [
    "df"
   ]
  },
  {
   "cell_type": "code",
   "execution_count": 24,
   "id": "31a9a912",
   "metadata": {
    "execution": {
     "iopub.execute_input": "2022-06-05T22:43:18.352780Z",
     "iopub.status.busy": "2022-06-05T22:43:18.352139Z",
     "iopub.status.idle": "2022-06-05T22:43:18.360718Z",
     "shell.execute_reply": "2022-06-05T22:43:18.360083Z"
    },
    "papermill": {
     "duration": 0.020624,
     "end_time": "2022-06-05T22:43:18.362470",
     "exception": false,
     "start_time": "2022-06-05T22:43:18.341846",
     "status": "completed"
    },
    "tags": []
   },
   "outputs": [
    {
     "data": {
      "text/plain": [
       "hotmail     1638\n",
       "yahoo       1616\n",
       "gmail       1605\n",
       "smith         69\n",
       "williams      55\n",
       "Name: Email Provider, dtype: int64"
      ]
     },
     "execution_count": 24,
     "metadata": {},
     "output_type": "execute_result"
    }
   ],
   "source": [
    "df[\"Email Provider\"].value_counts().head(5)"
   ]
  },
  {
   "cell_type": "markdown",
   "id": "4ffbf509",
   "metadata": {
    "papermill": {
     "duration": 0.008848,
     "end_time": "2022-06-05T22:43:18.380340",
     "exception": false,
     "start_time": "2022-06-05T22:43:18.371492",
     "status": "completed"
    },
    "tags": []
   },
   "source": [
    "# Great Job!"
   ]
  }
 ],
 "metadata": {
  "kernelspec": {
   "display_name": "Python 3",
   "language": "python",
   "name": "python3"
  },
  "language_info": {
   "codemirror_mode": {
    "name": "ipython",
    "version": 3
   },
   "file_extension": ".py",
   "mimetype": "text/x-python",
   "name": "python",
   "nbconvert_exporter": "python",
   "pygments_lexer": "ipython3",
   "version": "3.7.12"
  },
  "papermill": {
   "default_parameters": {},
   "duration": 10.240732,
   "end_time": "2022-06-05T22:43:19.010191",
   "environment_variables": {},
   "exception": null,
   "input_path": "__notebook__.ipynb",
   "output_path": "__notebook__.ipynb",
   "parameters": {},
   "start_time": "2022-06-05T22:43:08.769459",
   "version": "2.3.4"
  }
 },
 "nbformat": 4,
 "nbformat_minor": 5
}
