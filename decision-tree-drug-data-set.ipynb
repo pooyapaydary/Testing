{
 "cells": [
  {
   "cell_type": "code",
   "execution_count": 1,
   "id": "0f11f912",
   "metadata": {
    "_cell_guid": "b1076dfc-b9ad-4769-8c92-a6c4dae69d19",
    "_uuid": "8f2839f25d086af736a60e9eeb907d3b93b6e0e5",
    "execution": {
     "iopub.execute_input": "2022-05-28T14:45:26.710543Z",
     "iopub.status.busy": "2022-05-28T14:45:26.709668Z",
     "iopub.status.idle": "2022-05-28T14:45:28.174928Z",
     "shell.execute_reply": "2022-05-28T14:45:28.173752Z"
    },
    "papermill": {
     "duration": 1.474278,
     "end_time": "2022-05-28T14:45:28.177590",
     "exception": false,
     "start_time": "2022-05-28T14:45:26.703312",
     "status": "completed"
    },
    "tags": []
   },
   "outputs": [
    {
     "name": "stdout",
     "output_type": "stream",
     "text": [
      "/kaggle/input/drug-classification/drug200.csv\n",
      "Done\n"
     ]
    }
   ],
   "source": [
    "# This Python 3 environment comes with many helpful analytics libraries installed\n",
    "# It is defined by the kaggle/python Docker image: https://github.com/kaggle/docker-python\n",
    "# For example, here's several helpful packages to load\n",
    "\n",
    "import numpy as np # linear algebra\n",
    "import pandas as pd # data processing, CSV file I/O (e.g. pd.read_csv)\n",
    "import seaborn as sns\n",
    "import matplotlib.pyplot as plt\n",
    "\n",
    "from sklearn.tree import DecisionTreeClassifier as dct\n",
    "from sklearn.tree import plot_tree\n",
    "from sklearn.metrics import accuracy_score\n",
    "from sklearn.model_selection import train_test_split\n",
    "\n",
    "\n",
    "# Input data files are available in the read-only \"../input/\" directory\n",
    "# For example, running this (by clicking run or pressing Shift+Enter) will list all files under the input directory\n",
    "\n",
    "import os\n",
    "for dirname, _, filenames in os.walk('/kaggle/input'):\n",
    "    for filename in filenames:\n",
    "        print(os.path.join(dirname, filename))\n",
    "print(\"Done\")\n",
    "\n",
    "# You can write up to 20GB to the current directory (/kaggle/working/) that gets preserved as output when you create a version using \"Save & Run All\" \n",
    "# You can also write temporary files to /kaggle/temp/, but they won't be saved outside of the current session"
   ]
  },
  {
   "cell_type": "code",
   "execution_count": 2,
   "id": "18895f2e",
   "metadata": {
    "execution": {
     "iopub.execute_input": "2022-05-28T14:45:28.183594Z",
     "iopub.status.busy": "2022-05-28T14:45:28.183205Z",
     "iopub.status.idle": "2022-05-28T14:45:28.210690Z",
     "shell.execute_reply": "2022-05-28T14:45:28.209651Z"
    },
    "papermill": {
     "duration": 0.033525,
     "end_time": "2022-05-28T14:45:28.213552",
     "exception": false,
     "start_time": "2022-05-28T14:45:28.180027",
     "status": "completed"
    },
    "tags": []
   },
   "outputs": [
    {
     "name": "stdout",
     "output_type": "stream",
     "text": [
      "200 6\n"
     ]
    }
   ],
   "source": [
    "df=pd.read_csv(\"../input/drug-classification/drug200.csv\")\n",
    "m,n=df.shape\n",
    "print(m,n)"
   ]
  },
  {
   "cell_type": "code",
   "execution_count": 3,
   "id": "fc5b291a",
   "metadata": {
    "execution": {
     "iopub.execute_input": "2022-05-28T14:45:28.220074Z",
     "iopub.status.busy": "2022-05-28T14:45:28.219731Z",
     "iopub.status.idle": "2022-05-28T14:45:28.240332Z",
     "shell.execute_reply": "2022-05-28T14:45:28.239436Z"
    },
    "papermill": {
     "duration": 0.025738,
     "end_time": "2022-05-28T14:45:28.242318",
     "exception": false,
     "start_time": "2022-05-28T14:45:28.216580",
     "status": "completed"
    },
    "tags": []
   },
   "outputs": [
    {
     "data": {
      "text/html": [
       "<div>\n",
       "<style scoped>\n",
       "    .dataframe tbody tr th:only-of-type {\n",
       "        vertical-align: middle;\n",
       "    }\n",
       "\n",
       "    .dataframe tbody tr th {\n",
       "        vertical-align: top;\n",
       "    }\n",
       "\n",
       "    .dataframe thead th {\n",
       "        text-align: right;\n",
       "    }\n",
       "</style>\n",
       "<table border=\"1\" class=\"dataframe\">\n",
       "  <thead>\n",
       "    <tr style=\"text-align: right;\">\n",
       "      <th></th>\n",
       "      <th>Age</th>\n",
       "      <th>Sex</th>\n",
       "      <th>BP</th>\n",
       "      <th>Cholesterol</th>\n",
       "      <th>Na_to_K</th>\n",
       "      <th>Drug</th>\n",
       "    </tr>\n",
       "  </thead>\n",
       "  <tbody>\n",
       "    <tr>\n",
       "      <th>0</th>\n",
       "      <td>23</td>\n",
       "      <td>F</td>\n",
       "      <td>HIGH</td>\n",
       "      <td>HIGH</td>\n",
       "      <td>25.355</td>\n",
       "      <td>DrugY</td>\n",
       "    </tr>\n",
       "    <tr>\n",
       "      <th>1</th>\n",
       "      <td>47</td>\n",
       "      <td>M</td>\n",
       "      <td>LOW</td>\n",
       "      <td>HIGH</td>\n",
       "      <td>13.093</td>\n",
       "      <td>drugC</td>\n",
       "    </tr>\n",
       "    <tr>\n",
       "      <th>2</th>\n",
       "      <td>47</td>\n",
       "      <td>M</td>\n",
       "      <td>LOW</td>\n",
       "      <td>HIGH</td>\n",
       "      <td>10.114</td>\n",
       "      <td>drugC</td>\n",
       "    </tr>\n",
       "    <tr>\n",
       "      <th>3</th>\n",
       "      <td>28</td>\n",
       "      <td>F</td>\n",
       "      <td>NORMAL</td>\n",
       "      <td>HIGH</td>\n",
       "      <td>7.798</td>\n",
       "      <td>drugX</td>\n",
       "    </tr>\n",
       "    <tr>\n",
       "      <th>4</th>\n",
       "      <td>61</td>\n",
       "      <td>F</td>\n",
       "      <td>LOW</td>\n",
       "      <td>HIGH</td>\n",
       "      <td>18.043</td>\n",
       "      <td>DrugY</td>\n",
       "    </tr>\n",
       "  </tbody>\n",
       "</table>\n",
       "</div>"
      ],
      "text/plain": [
       "   Age Sex      BP Cholesterol  Na_to_K   Drug\n",
       "0   23   F    HIGH        HIGH   25.355  DrugY\n",
       "1   47   M     LOW        HIGH   13.093  drugC\n",
       "2   47   M     LOW        HIGH   10.114  drugC\n",
       "3   28   F  NORMAL        HIGH    7.798  drugX\n",
       "4   61   F     LOW        HIGH   18.043  DrugY"
      ]
     },
     "execution_count": 3,
     "metadata": {},
     "output_type": "execute_result"
    }
   ],
   "source": [
    "df.head()"
   ]
  },
  {
   "cell_type": "code",
   "execution_count": 4,
   "id": "f4faa3a3",
   "metadata": {
    "execution": {
     "iopub.execute_input": "2022-05-28T14:45:28.248798Z",
     "iopub.status.busy": "2022-05-28T14:45:28.248165Z",
     "iopub.status.idle": "2022-05-28T14:45:28.271445Z",
     "shell.execute_reply": "2022-05-28T14:45:28.270540Z"
    },
    "papermill": {
     "duration": 0.028557,
     "end_time": "2022-05-28T14:45:28.273420",
     "exception": false,
     "start_time": "2022-05-28T14:45:28.244863",
     "status": "completed"
    },
    "tags": []
   },
   "outputs": [
    {
     "name": "stdout",
     "output_type": "stream",
     "text": [
      "<class 'pandas.core.frame.DataFrame'>\n",
      "RangeIndex: 200 entries, 0 to 199\n",
      "Data columns (total 6 columns):\n",
      " #   Column       Non-Null Count  Dtype  \n",
      "---  ------       --------------  -----  \n",
      " 0   Age          200 non-null    int64  \n",
      " 1   Sex          200 non-null    object \n",
      " 2   BP           200 non-null    object \n",
      " 3   Cholesterol  200 non-null    object \n",
      " 4   Na_to_K      200 non-null    float64\n",
      " 5   Drug         200 non-null    object \n",
      "dtypes: float64(1), int64(1), object(4)\n",
      "memory usage: 9.5+ KB\n"
     ]
    }
   ],
   "source": [
    "df.info()"
   ]
  },
  {
   "cell_type": "code",
   "execution_count": 5,
   "id": "12f2b634",
   "metadata": {
    "execution": {
     "iopub.execute_input": "2022-05-28T14:45:28.279394Z",
     "iopub.status.busy": "2022-05-28T14:45:28.279067Z",
     "iopub.status.idle": "2022-05-28T14:45:28.290832Z",
     "shell.execute_reply": "2022-05-28T14:45:28.289926Z"
    },
    "papermill": {
     "duration": 0.019087,
     "end_time": "2022-05-28T14:45:28.295032",
     "exception": false,
     "start_time": "2022-05-28T14:45:28.275945",
     "status": "completed"
    },
    "tags": []
   },
   "outputs": [
    {
     "name": "stdout",
     "output_type": "stream",
     "text": [
      "[2 0 0 1 0 1 1 0 1 0 0 2 0 0 1 2 0 2 0 2 0 1 0 0 0 2 2 1 0 0 1 2 0 2 1 1 2\n",
      " 0 1 1 1 2 1 1 1 1 2 0 1 0 2 1 0 2 2 0 2 2 1 2 0 2 0 0 2 1 2 1 1 2 2 1 1 1\n",
      " 2 0 2 2 2 0 2 1 0 2 0 2 1 0 2 1 1 2 2 0 0 0 0 2 2 2 2 2 0 1 2 0 1 0 2 1 2\n",
      " 1 0 0 1 2 1 1 2 2 1 2 1 1 2 2 2 1 0 1 1 0 0 1 2 0 2 2 2 1 2 0 2 2 2 1 0 2\n",
      " 0 0 2 2 1 0 0 0 2 0 0 0 1 2 1 2 2 0 0 1 0 2 1 0 1 0 2 2 2 1 1 1 2 1 0 2 2\n",
      " 1 2 2 2 2 2 2 0 0 2 0 0 1 1 0]\n"
     ]
    }
   ],
   "source": [
    "df=pd.read_csv(\"../input/drug-classification/drug200.csv\")\n",
    "for i in df.BP.values:\n",
    "    if (i  == 'LOW'):\n",
    "        df.BP.replace(i,0,inplace=True)\n",
    "    elif (i==\"NORMAL\"):\n",
    "        df.BP.replace(i,1,inplace=True)\n",
    "    elif (i==\"HIGH\"):\n",
    "        df.BP.replace(i,2,inplace=True)\n",
    "print (df.BP.values)      \n",
    "        "
   ]
  },
  {
   "cell_type": "code",
   "execution_count": 6,
   "id": "297d32a0",
   "metadata": {
    "execution": {
     "iopub.execute_input": "2022-05-28T14:45:28.302911Z",
     "iopub.status.busy": "2022-05-28T14:45:28.302146Z",
     "iopub.status.idle": "2022-05-28T14:45:28.313702Z",
     "shell.execute_reply": "2022-05-28T14:45:28.312556Z"
    },
    "papermill": {
     "duration": 0.016935,
     "end_time": "2022-05-28T14:45:28.315578",
     "exception": false,
     "start_time": "2022-05-28T14:45:28.298643",
     "status": "completed"
    },
    "tags": []
   },
   "outputs": [
    {
     "name": "stdout",
     "output_type": "stream",
     "text": [
      "[0 1 1 0 0 0 0 1 1 1 0 0 1 0 0 0 1 1 1 0 1 1 1 0 0 0 1 0 0 1 0 1 1 0 1 1 1\n",
      " 1 0 1 0 0 1 1 0 0 0 1 1 0 0 1 1 0 0 0 1 1 1 1 0 1 1 1 0 0 1 1 1 0 1 0 0 0\n",
      " 1 1 0 0 0 0 1 1 0 0 0 1 0 1 0 0 1 1 0 0 1 1 0 0 1 0 1 0 0 1 1 1 1 1 1 1 1\n",
      " 0 1 0 0 1 1 0 0 0 1 1 1 0 0 0 1 1 1 0 0 1 1 1 0 1 0 0 1 0 1 0 1 1 1 1 0 0\n",
      " 0 1 1 1 1 0 1 1 1 1 0 0 0 0 1 0 1 1 0 0 0 0 0 1 0 0 1 0 1 1 1 0 0 0 0 0 0\n",
      " 0 1 1 1 1 1 1 1 1 0 0 1 1 1 0]\n"
     ]
    }
   ],
   "source": [
    "df=pd.read_csv(\"../input/drug-classification/drug200.csv\")\n",
    "for i in df.Sex.values:\n",
    "    if (i  == 'M'):\n",
    "        df.Sex.replace(i,1,inplace=True)\n",
    "    elif (i==\"F\"):\n",
    "        df.Sex.replace(i,0,inplace=True)\n",
    "print (df.Sex.values) \n",
    "        \n",
    "    \n",
    "    \n"
   ]
  }
 ],
 "metadata": {
  "kernelspec": {
   "display_name": "Python 3",
   "language": "python",
   "name": "python3"
  },
  "language_info": {
   "codemirror_mode": {
    "name": "ipython",
    "version": 3
   },
   "file_extension": ".py",
   "mimetype": "text/x-python",
   "name": "python",
   "nbconvert_exporter": "python",
   "pygments_lexer": "ipython3",
   "version": "3.7.12"
  },
  "papermill": {
   "default_parameters": {},
   "duration": 10.85241,
   "end_time": "2022-05-28T14:45:29.039699",
   "environment_variables": {},
   "exception": null,
   "input_path": "__notebook__.ipynb",
   "output_path": "__notebook__.ipynb",
   "parameters": {},
   "start_time": "2022-05-28T14:45:18.187289",
   "version": "2.3.4"
  }
 },
 "nbformat": 4,
 "nbformat_minor": 5
}
