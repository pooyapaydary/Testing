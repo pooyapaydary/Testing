{
 "cells": [
  {
   "cell_type": "code",
   "execution_count": 1,
   "id": "d1d664f9",
   "metadata": {
    "_cell_guid": "b1076dfc-b9ad-4769-8c92-a6c4dae69d19",
    "_uuid": "8f2839f25d086af736a60e9eeb907d3b93b6e0e5",
    "execution": {
     "iopub.execute_input": "2022-05-28T15:36:21.885299Z",
     "iopub.status.busy": "2022-05-28T15:36:21.884618Z",
     "iopub.status.idle": "2022-05-28T15:36:23.752437Z",
     "shell.execute_reply": "2022-05-28T15:36:23.751517Z"
    },
    "papermill": {
     "duration": 1.88354,
     "end_time": "2022-05-28T15:36:23.756116",
     "exception": false,
     "start_time": "2022-05-28T15:36:21.872576",
     "status": "completed"
    },
    "tags": []
   },
   "outputs": [
    {
     "name": "stdout",
     "output_type": "stream",
     "text": [
      "/kaggle/input/drug-classification/drug200.csv\n",
      "Done\n"
     ]
    }
   ],
   "source": [
    "# This Python 3 environment comes with many helpful analytics libraries installed\n",
    "# It is defined by the kaggle/python Docker image: https://github.com/kaggle/docker-python\n",
    "# For example, here's several helpful packages to load\n",
    "\n",
    "import numpy as np # linear algebra\n",
    "import pandas as pd # data processing, CSV file I/O (e.g. pd.read_csv)\n",
    "import seaborn as sns\n",
    "import matplotlib.pyplot as plt\n",
    "\n",
    "from sklearn.tree import DecisionTreeClassifier as dtc\n",
    "from sklearn.tree import plot_tree\n",
    "from sklearn.metrics import accuracy_score\n",
    "from sklearn.model_selection import train_test_split\n",
    "\n",
    "\n",
    "# Input data files are available in the read-only \"../input/\" directory\n",
    "# For example, running this (by clicking run or pressing Shift+Enter) will list all files under the input directory\n",
    "\n",
    "import os\n",
    "for dirname, _, filenames in os.walk('/kaggle/input'):\n",
    "    for filename in filenames:\n",
    "        print(os.path.join(dirname, filename))\n",
    "print(\"Done\")\n",
    "\n",
    "# You can write up to 20GB to the current directory (/kaggle/working/) that gets preserved as output when you create a version using \"Save & Run All\" \n",
    "# You can also write temporary files to /kaggle/temp/, but they won't be saved outside of the current session"
   ]
  },
  {
   "cell_type": "code",
   "execution_count": 2,
   "id": "da02ed33",
   "metadata": {
    "execution": {
     "iopub.execute_input": "2022-05-28T15:36:23.770111Z",
     "iopub.status.busy": "2022-05-28T15:36:23.768924Z",
     "iopub.status.idle": "2022-05-28T15:36:23.789577Z",
     "shell.execute_reply": "2022-05-28T15:36:23.788502Z"
    },
    "papermill": {
     "duration": 0.030303,
     "end_time": "2022-05-28T15:36:23.792134",
     "exception": false,
     "start_time": "2022-05-28T15:36:23.761831",
     "status": "completed"
    },
    "tags": []
   },
   "outputs": [
    {
     "name": "stdout",
     "output_type": "stream",
     "text": [
      "200 6\n"
     ]
    }
   ],
   "source": [
    "df=pd.read_csv(\"../input/drug-classification/drug200.csv\")\n",
    "m,n=df.shape\n",
    "print(m,n)"
   ]
  },
  {
   "cell_type": "code",
   "execution_count": 3,
   "id": "a4a9651d",
   "metadata": {
    "execution": {
     "iopub.execute_input": "2022-05-28T15:36:23.805217Z",
     "iopub.status.busy": "2022-05-28T15:36:23.804524Z",
     "iopub.status.idle": "2022-05-28T15:36:23.830580Z",
     "shell.execute_reply": "2022-05-28T15:36:23.829484Z"
    },
    "papermill": {
     "duration": 0.035423,
     "end_time": "2022-05-28T15:36:23.833003",
     "exception": false,
     "start_time": "2022-05-28T15:36:23.797580",
     "status": "completed"
    },
    "tags": []
   },
   "outputs": [
    {
     "data": {
      "text/html": [
       "<div>\n",
       "<style scoped>\n",
       "    .dataframe tbody tr th:only-of-type {\n",
       "        vertical-align: middle;\n",
       "    }\n",
       "\n",
       "    .dataframe tbody tr th {\n",
       "        vertical-align: top;\n",
       "    }\n",
       "\n",
       "    .dataframe thead th {\n",
       "        text-align: right;\n",
       "    }\n",
       "</style>\n",
       "<table border=\"1\" class=\"dataframe\">\n",
       "  <thead>\n",
       "    <tr style=\"text-align: right;\">\n",
       "      <th></th>\n",
       "      <th>Age</th>\n",
       "      <th>Sex</th>\n",
       "      <th>BP</th>\n",
       "      <th>Cholesterol</th>\n",
       "      <th>Na_to_K</th>\n",
       "      <th>Drug</th>\n",
       "    </tr>\n",
       "  </thead>\n",
       "  <tbody>\n",
       "    <tr>\n",
       "      <th>0</th>\n",
       "      <td>23</td>\n",
       "      <td>F</td>\n",
       "      <td>HIGH</td>\n",
       "      <td>HIGH</td>\n",
       "      <td>25.355</td>\n",
       "      <td>DrugY</td>\n",
       "    </tr>\n",
       "    <tr>\n",
       "      <th>1</th>\n",
       "      <td>47</td>\n",
       "      <td>M</td>\n",
       "      <td>LOW</td>\n",
       "      <td>HIGH</td>\n",
       "      <td>13.093</td>\n",
       "      <td>drugC</td>\n",
       "    </tr>\n",
       "    <tr>\n",
       "      <th>2</th>\n",
       "      <td>47</td>\n",
       "      <td>M</td>\n",
       "      <td>LOW</td>\n",
       "      <td>HIGH</td>\n",
       "      <td>10.114</td>\n",
       "      <td>drugC</td>\n",
       "    </tr>\n",
       "    <tr>\n",
       "      <th>3</th>\n",
       "      <td>28</td>\n",
       "      <td>F</td>\n",
       "      <td>NORMAL</td>\n",
       "      <td>HIGH</td>\n",
       "      <td>7.798</td>\n",
       "      <td>drugX</td>\n",
       "    </tr>\n",
       "    <tr>\n",
       "      <th>4</th>\n",
       "      <td>61</td>\n",
       "      <td>F</td>\n",
       "      <td>LOW</td>\n",
       "      <td>HIGH</td>\n",
       "      <td>18.043</td>\n",
       "      <td>DrugY</td>\n",
       "    </tr>\n",
       "  </tbody>\n",
       "</table>\n",
       "</div>"
      ],
      "text/plain": [
       "   Age Sex      BP Cholesterol  Na_to_K   Drug\n",
       "0   23   F    HIGH        HIGH   25.355  DrugY\n",
       "1   47   M     LOW        HIGH   13.093  drugC\n",
       "2   47   M     LOW        HIGH   10.114  drugC\n",
       "3   28   F  NORMAL        HIGH    7.798  drugX\n",
       "4   61   F     LOW        HIGH   18.043  DrugY"
      ]
     },
     "execution_count": 3,
     "metadata": {},
     "output_type": "execute_result"
    }
   ],
   "source": [
    "df.head()\n"
   ]
  },
  {
   "cell_type": "code",
   "execution_count": 4,
   "id": "ec770e28",
   "metadata": {
    "execution": {
     "iopub.execute_input": "2022-05-28T15:36:23.847268Z",
     "iopub.status.busy": "2022-05-28T15:36:23.846366Z",
     "iopub.status.idle": "2022-05-28T15:36:23.876642Z",
     "shell.execute_reply": "2022-05-28T15:36:23.875379Z"
    },
    "papermill": {
     "duration": 0.04071,
     "end_time": "2022-05-28T15:36:23.879615",
     "exception": false,
     "start_time": "2022-05-28T15:36:23.838905",
     "status": "completed"
    },
    "tags": []
   },
   "outputs": [
    {
     "name": "stdout",
     "output_type": "stream",
     "text": [
      "<class 'pandas.core.frame.DataFrame'>\n",
      "RangeIndex: 200 entries, 0 to 199\n",
      "Data columns (total 6 columns):\n",
      " #   Column       Non-Null Count  Dtype  \n",
      "---  ------       --------------  -----  \n",
      " 0   Age          200 non-null    int64  \n",
      " 1   Sex          200 non-null    object \n",
      " 2   BP           200 non-null    object \n",
      " 3   Cholesterol  200 non-null    object \n",
      " 4   Na_to_K      200 non-null    float64\n",
      " 5   Drug         200 non-null    object \n",
      "dtypes: float64(1), int64(1), object(4)\n",
      "memory usage: 9.5+ KB\n"
     ]
    }
   ],
   "source": [
    "df.info()"
   ]
  },
  {
   "cell_type": "code",
   "execution_count": 5,
   "id": "d5d719bf",
   "metadata": {
    "execution": {
     "iopub.execute_input": "2022-05-28T15:36:23.893979Z",
     "iopub.status.busy": "2022-05-28T15:36:23.893483Z",
     "iopub.status.idle": "2022-05-28T15:36:23.913446Z",
     "shell.execute_reply": "2022-05-28T15:36:23.911773Z"
    },
    "papermill": {
     "duration": 0.030467,
     "end_time": "2022-05-28T15:36:23.916493",
     "exception": false,
     "start_time": "2022-05-28T15:36:23.886026",
     "status": "completed"
    },
    "tags": []
   },
   "outputs": [
    {
     "name": "stdout",
     "output_type": "stream",
     "text": [
      "[2 0 0 1 0 1 1 0 1 0 0 2 0 0 1 2 0 2 0 2 0 1 0 0 0 2 2 1 0 0 1 2 0 2 1 1 2\n",
      " 0 1 1 1 2 1 1 1 1 2 0 1 0 2 1 0 2 2 0 2 2 1 2 0 2 0 0 2 1 2 1 1 2 2 1 1 1\n",
      " 2 0 2 2 2 0 2 1 0 2 0 2 1 0 2 1 1 2 2 0 0 0 0 2 2 2 2 2 0 1 2 0 1 0 2 1 2\n",
      " 1 0 0 1 2 1 1 2 2 1 2 1 1 2 2 2 1 0 1 1 0 0 1 2 0 2 2 2 1 2 0 2 2 2 1 0 2\n",
      " 0 0 2 2 1 0 0 0 2 0 0 0 1 2 1 2 2 0 0 1 0 2 1 0 1 0 2 2 2 1 1 1 2 1 0 2 2\n",
      " 1 2 2 2 2 2 2 0 0 2 0 0 1 1 0]\n"
     ]
    }
   ],
   "source": [
    "df=pd.read_csv(\"../input/drug-classification/drug200.csv\")\n",
    "for i in df.BP.values:\n",
    "    if (i  == 'LOW'):\n",
    "        df.BP.replace(i,0,inplace=True)\n",
    "    elif (i==\"NORMAL\"):\n",
    "        df.BP.replace(i,1,inplace=True)\n",
    "    elif (i==\"HIGH\"):\n",
    "        df.BP.replace(i,2,inplace=True)\n",
    "print (df.BP.values)      \n",
    "        "
   ]
  },
  {
   "cell_type": "code",
   "execution_count": 6,
   "id": "8ea082a4",
   "metadata": {
    "execution": {
     "iopub.execute_input": "2022-05-28T15:36:23.931396Z",
     "iopub.status.busy": "2022-05-28T15:36:23.930322Z",
     "iopub.status.idle": "2022-05-28T15:36:23.940673Z",
     "shell.execute_reply": "2022-05-28T15:36:23.939392Z"
    },
    "papermill": {
     "duration": 0.020521,
     "end_time": "2022-05-28T15:36:23.943503",
     "exception": false,
     "start_time": "2022-05-28T15:36:23.922982",
     "status": "completed"
    },
    "tags": []
   },
   "outputs": [
    {
     "name": "stdout",
     "output_type": "stream",
     "text": [
      "[0 1 1 0 0 0 0 1 1 1 0 0 1 0 0 0 1 1 1 0 1 1 1 0 0 0 1 0 0 1 0 1 1 0 1 1 1\n",
      " 1 0 1 0 0 1 1 0 0 0 1 1 0 0 1 1 0 0 0 1 1 1 1 0 1 1 1 0 0 1 1 1 0 1 0 0 0\n",
      " 1 1 0 0 0 0 1 1 0 0 0 1 0 1 0 0 1 1 0 0 1 1 0 0 1 0 1 0 0 1 1 1 1 1 1 1 1\n",
      " 0 1 0 0 1 1 0 0 0 1 1 1 0 0 0 1 1 1 0 0 1 1 1 0 1 0 0 1 0 1 0 1 1 1 1 0 0\n",
      " 0 1 1 1 1 0 1 1 1 1 0 0 0 0 1 0 1 1 0 0 0 0 0 1 0 0 1 0 1 1 1 0 0 0 0 0 0\n",
      " 0 1 1 1 1 1 1 1 1 0 0 1 1 1 0]\n"
     ]
    }
   ],
   "source": [
    "\n",
    "for i in df.Sex.values:\n",
    "    if (i  == 'M'):\n",
    "        df.Sex.replace(i,1,inplace=True)\n",
    "    elif (i==\"F\"):\n",
    "        df.Sex.replace(i,0,inplace=True)\n",
    "print (df.Sex.values) \n",
    "        \n",
    "    \n",
    "    \n"
   ]
  },
  {
   "cell_type": "code",
   "execution_count": 7,
   "id": "d5180370",
   "metadata": {
    "execution": {
     "iopub.execute_input": "2022-05-28T15:36:23.960171Z",
     "iopub.status.busy": "2022-05-28T15:36:23.959002Z",
     "iopub.status.idle": "2022-05-28T15:36:23.968163Z",
     "shell.execute_reply": "2022-05-28T15:36:23.967008Z"
    },
    "papermill": {
     "duration": 0.019921,
     "end_time": "2022-05-28T15:36:23.970635",
     "exception": false,
     "start_time": "2022-05-28T15:36:23.950714",
     "status": "completed"
    },
    "tags": []
   },
   "outputs": [],
   "source": [
    "\n",
    "\n",
    "for i in df.Cholesterol.values:\n",
    "    if (i  == 'HIGH'):\n",
    "        df.Cholesterol.replace(i,1,inplace=True)\n",
    "    elif (i==\"NORMAL\"):\n",
    "        df.Cholesterol.replace(i,0,inplace=True)\n",
    "        "
   ]
  },
  {
   "cell_type": "code",
   "execution_count": 8,
   "id": "c4350252",
   "metadata": {
    "execution": {
     "iopub.execute_input": "2022-05-28T15:36:23.985556Z",
     "iopub.status.busy": "2022-05-28T15:36:23.984757Z",
     "iopub.status.idle": "2022-05-28T15:36:23.993445Z",
     "shell.execute_reply": "2022-05-28T15:36:23.992541Z"
    },
    "papermill": {
     "duration": 0.01901,
     "end_time": "2022-05-28T15:36:23.995922",
     "exception": false,
     "start_time": "2022-05-28T15:36:23.976912",
     "status": "completed"
    },
    "tags": []
   },
   "outputs": [],
   "source": [
    "xdf=df[['Age', 'Sex', 'BP', 'Cholesterol', 'Na_to_K']]\n",
    "ydf=df[\"Drug\"]\n"
   ]
  },
  {
   "cell_type": "code",
   "execution_count": 9,
   "id": "bb7d6a88",
   "metadata": {
    "execution": {
     "iopub.execute_input": "2022-05-28T15:36:24.011122Z",
     "iopub.status.busy": "2022-05-28T15:36:24.010353Z",
     "iopub.status.idle": "2022-05-28T15:36:24.018473Z",
     "shell.execute_reply": "2022-05-28T15:36:24.017380Z"
    },
    "papermill": {
     "duration": 0.018412,
     "end_time": "2022-05-28T15:36:24.021055",
     "exception": false,
     "start_time": "2022-05-28T15:36:24.002643",
     "status": "completed"
    },
    "tags": []
   },
   "outputs": [],
   "source": [
    "xtrain,xtest,ytrain,ytest=train_test_split(xdf,ydf,test_size=.2)"
   ]
  },
  {
   "cell_type": "code",
   "execution_count": 10,
   "id": "a35c6622",
   "metadata": {
    "execution": {
     "iopub.execute_input": "2022-05-28T15:36:24.035729Z",
     "iopub.status.busy": "2022-05-28T15:36:24.034902Z",
     "iopub.status.idle": "2022-05-28T15:36:24.039952Z",
     "shell.execute_reply": "2022-05-28T15:36:24.038587Z"
    },
    "papermill": {
     "duration": 0.015301,
     "end_time": "2022-05-28T15:36:24.042633",
     "exception": false,
     "start_time": "2022-05-28T15:36:24.027332",
     "status": "completed"
    },
    "tags": []
   },
   "outputs": [],
   "source": [
    "model=dtc(max_depth=5)"
   ]
  },
  {
   "cell_type": "code",
   "execution_count": 11,
   "id": "9a45ebb0",
   "metadata": {
    "execution": {
     "iopub.execute_input": "2022-05-28T15:36:24.058212Z",
     "iopub.status.busy": "2022-05-28T15:36:24.056950Z",
     "iopub.status.idle": "2022-05-28T15:36:24.071172Z",
     "shell.execute_reply": "2022-05-28T15:36:24.070332Z"
    },
    "papermill": {
     "duration": 0.024677,
     "end_time": "2022-05-28T15:36:24.073580",
     "exception": false,
     "start_time": "2022-05-28T15:36:24.048903",
     "status": "completed"
    },
    "tags": []
   },
   "outputs": [
    {
     "data": {
      "text/plain": [
       "DecisionTreeClassifier(max_depth=5)"
      ]
     },
     "execution_count": 11,
     "metadata": {},
     "output_type": "execute_result"
    }
   ],
   "source": [
    "model.fit(xtrain,ytrain)"
   ]
  },
  {
   "cell_type": "code",
   "execution_count": 12,
   "id": "d11a3553",
   "metadata": {
    "execution": {
     "iopub.execute_input": "2022-05-28T15:36:24.088579Z",
     "iopub.status.busy": "2022-05-28T15:36:24.087714Z",
     "iopub.status.idle": "2022-05-28T15:36:24.094560Z",
     "shell.execute_reply": "2022-05-28T15:36:24.093688Z"
    },
    "papermill": {
     "duration": 0.017165,
     "end_time": "2022-05-28T15:36:24.097041",
     "exception": false,
     "start_time": "2022-05-28T15:36:24.079876",
     "status": "completed"
    },
    "tags": []
   },
   "outputs": [],
   "source": [
    "pred_model=model.predict(xtest)"
   ]
  },
  {
   "cell_type": "code",
   "execution_count": 13,
   "id": "a155e006",
   "metadata": {
    "execution": {
     "iopub.execute_input": "2022-05-28T15:36:24.112175Z",
     "iopub.status.busy": "2022-05-28T15:36:24.111353Z",
     "iopub.status.idle": "2022-05-28T15:36:24.118540Z",
     "shell.execute_reply": "2022-05-28T15:36:24.117572Z"
    },
    "papermill": {
     "duration": 0.017325,
     "end_time": "2022-05-28T15:36:24.120693",
     "exception": false,
     "start_time": "2022-05-28T15:36:24.103368",
     "status": "completed"
    },
    "tags": []
   },
   "outputs": [
    {
     "data": {
      "text/plain": [
       "100.0"
      ]
     },
     "execution_count": 13,
     "metadata": {},
     "output_type": "execute_result"
    }
   ],
   "source": [
    "accuracy_score(ytest,pred_model)*100"
   ]
  },
  {
   "cell_type": "code",
   "execution_count": 14,
   "id": "edad7039",
   "metadata": {
    "execution": {
     "iopub.execute_input": "2022-05-28T15:36:24.135493Z",
     "iopub.status.busy": "2022-05-28T15:36:24.134734Z",
     "iopub.status.idle": "2022-05-28T15:36:24.142634Z",
     "shell.execute_reply": "2022-05-28T15:36:24.141403Z"
    },
    "papermill": {
     "duration": 0.017889,
     "end_time": "2022-05-28T15:36:24.144896",
     "exception": false,
     "start_time": "2022-05-28T15:36:24.127007",
     "status": "completed"
    },
    "tags": []
   },
   "outputs": [
    {
     "name": "stdout",
     "output_type": "stream",
     "text": [
      "<class 'list'>\n"
     ]
    }
   ],
   "source": [
    "feature_names=df.columns[:5]\n",
    "target_names=df[\"Drug\"].unique().tolist()\n",
    "print(type(target_names))"
   ]
  },
  {
   "cell_type": "code",
   "execution_count": 15,
   "id": "f7e373d4",
   "metadata": {
    "execution": {
     "iopub.execute_input": "2022-05-28T15:36:24.159549Z",
     "iopub.status.busy": "2022-05-28T15:36:24.159037Z",
     "iopub.status.idle": "2022-05-28T15:36:25.107260Z",
     "shell.execute_reply": "2022-05-28T15:36:25.106146Z"
    },
    "papermill": {
     "duration": 0.959365,
     "end_time": "2022-05-28T15:36:25.110581",
     "exception": false,
     "start_time": "2022-05-28T15:36:24.151216",
     "status": "completed"
    },
    "tags": []
   },
   "outputs": [
    {
     "data": {
      "image/png": "[encoded data removed]",
      "text/plain": [
       "<Figure size 432x288 with 1 Axes>"
      ]
     },
     "metadata": {
      "needs_background": "light"
     },
     "output_type": "display_data"
    }
   ],
   "source": [
    "plot_tree(model, \n",
    "          feature_names = feature_names, \n",
    "          class_names = target_names, \n",
    "          filled = True, \n",
    "          rounded = True)\n",
    "\n",
    "plt.savefig('tree_visualization.png') "
   ]
  }
 ],
 "metadata": {
  "kernelspec": {
   "display_name": "Python 3",
   "language": "python",
   "name": "python3"
  },
  "language_info": {
   "codemirror_mode": {
    "name": "ipython",
    "version": 3
   },
   "file_extension": ".py",
   "mimetype": "text/x-python",
   "name": "python",
   "nbconvert_exporter": "python",
   "pygments_lexer": "ipython3",
   "version": "3.7.12"
  },
  "papermill": {
   "default_parameters": {},
   "duration": 18.372636,
   "end_time": "2022-05-28T15:36:26.247580",
   "environment_variables": {},
   "exception": null,
   "input_path": "__notebook__.ipynb",
   "output_path": "__notebook__.ipynb",
   "parameters": {},
   "start_time": "2022-05-28T15:36:07.874944",
   "version": "2.3.4"
  }
 },
 "nbformat": 4,
 "nbformat_minor": 5
}
